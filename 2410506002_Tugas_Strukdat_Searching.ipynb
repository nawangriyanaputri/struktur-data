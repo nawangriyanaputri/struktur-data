{
  "nbformat": 4,
  "nbformat_minor": 0,
  "metadata": {
    "colab": {
      "provenance": []
    },
    "kernelspec": {
      "name": "python3",
      "display_name": "Python 3"
    },
    "language_info": {
      "name": "python"
    }
  },
  "cells": [
    {
      "cell_type": "code",
      "execution_count": null,
      "metadata": {
        "colab": {
          "base_uri": "https://localhost:8080/"
        },
        "id": "kZdMtCo1P4nR",
        "outputId": "b54cc46a-dfb7-4345-edb2-bebdbcbbeb11"
      },
      "outputs": [
        {
          "output_type": "stream",
          "name": "stdout",
          "text": [
            "Masukkan 3 digit terakhir NPM anda: 002\n",
            "Elemen ditemukan pada indeks 9\n"
          ]
        }
      ],
      "source": [
        "# Implementasi Linear Search\n",
        "def linear_search(arr, target):\n",
        "  for i in range(len(arr)):\n",
        "    if arr[i] == target:\n",
        "      return i\n",
        "  return -1\n",
        "\n",
        "# Gantilah dengan angka acak NPM anda\n",
        "arr = [12, 45, 78, 23, 56, 89, 34, 67, 90, 2, 11]\n",
        "target = int(input(\"Masukkan 3 digit terakhir NPM anda: \"))\n",
        "\n",
        "result = linear_search(arr, target)\n",
        "\n",
        "if result != -1:\n",
        "  print(f\"Elemen ditemukan pada indeks {result}\")\n",
        "else:\n",
        "  print(\"Elemen tidak ditemukan\")"
      ]
    },
    {
      "cell_type": "code",
      "source": [
        "# Implementasi Binary Search\n",
        "def binary_search(arr, target):\n",
        "  low = 0\n",
        "  high = len(arr) - 1\n",
        "\n",
        "  while low <= high:\n",
        "    mid = (low + high) // 2\n",
        "    if arr[mid] == target:\n",
        "      return mid\n",
        "    elif arr[mid] < target:\n",
        "      low = mid + 1\n",
        "    else:\n",
        "      high = mid - 1\n",
        "\n",
        "  return -1\n",
        "\n",
        "# Gantilah dengan angka terurut dan tanggal lahir anda (DDMM)\n",
        "arr = [901, 1010, 1202, 1405, 1707, 2508, 3009]\n",
        "target = int(input(\"Masukkan tanggal lahir anda (DDMM): \"))\n",
        "\n",
        "result = binary_search(arr, target)\n",
        "\n",
        "if result != -1:\n",
        "  print(f\"Elemen ditemukan pada indeks {result}\")\n",
        "else:\n",
        "  print(\"Elemen tidak ditemukan\")"
      ],
      "metadata": {
        "colab": {
          "base_uri": "https://localhost:8080/"
        },
        "id": "bBX-xWVvVPon",
        "outputId": "949f68fb-0708-4129-e44f-7910f20619c8"
      },
      "execution_count": null,
      "outputs": [
        {
          "output_type": "stream",
          "name": "stdout",
          "text": [
            "Masukkan tanggal lahir anda (DDMM): 0901\n",
            "Elemen ditemukan pada indeks 0\n"
          ]
        }
      ]
    },
    {
      "cell_type": "code",
      "source": [
        "# Implementasi Jump Search\n",
        "import math\n",
        "\n",
        "def jump_search(arr, target):\n",
        "  n = len(arr)\n",
        "  step = int(math.sqrt(n))\n",
        "  prev = 0\n",
        "\n",
        "  while arr[min(step, n) - 1] < target:\n",
        "    prev = step\n",
        "    step += int(math.sqrt(n))\n",
        "    if prev >= n:\n",
        "      return -1\n",
        "\n",
        "  for i in range(prev, min(step, n)):\n",
        "    if arr[i][0] == target:\n",
        "      return i\n",
        "  return -1\n",
        "\n",
        "# Gantilah dengan daftar nama teman-teman anda dalam urutan alfabet\n",
        "arr = [\"Aldo\", \"Isna\", \"Keysha\", \"Mutiara\", \"Nian\"]\n",
        "target = input(\"Masukkan inisial nama anda: \")\n",
        "\n",
        "result = jump_search(arr, target)\n",
        "\n",
        "if result != -1:\n",
        "  print(f\"Elemen ditemukan pada indeks {result}\")\n",
        "else:\n",
        "  print(\"Elemen tidak ditemukan\")"
      ],
      "metadata": {
        "colab": {
          "base_uri": "https://localhost:8080/"
        },
        "id": "QEA41mRiX6Vy",
        "outputId": "045df5a3-d2f6-47c3-f508-93943b4f4586"
      },
      "execution_count": null,
      "outputs": [
        {
          "output_type": "stream",
          "name": "stdout",
          "text": [
            "Masukkan inisial nama anda: N\n",
            "Elemen ditemukan pada indeks 4\n"
          ]
        }
      ]
    },
    {
      "cell_type": "code",
      "source": [
        "# Tugas/Latihan\n",
        "import random\n",
        "import math\n",
        "\n",
        "def linear_search(arr, target):\n",
        "  counter = 0\n",
        "  for a, num in enumerate(arr):\n",
        "    counter += 1\n",
        "    if num == target:\n",
        "      return a, counter\n",
        "  return -1, counter\n",
        "\n",
        "def binary_search(arr, target):\n",
        "  counter = 0\n",
        "  left, right = 0, len(arr) - 1\n",
        "  while left <= right:\n",
        "    mid = (left + right) // 2\n",
        "    counter += 1\n",
        "    if arr[mid] == target:\n",
        "      return mid, counter\n",
        "    elif arr[mid] < target:\n",
        "      left = mid + 1\n",
        "    else:\n",
        "      right = mid - 1\n",
        "  return -1, counter\n",
        "\n",
        "def jump_search(arr, target):\n",
        "  counter = 0\n",
        "  b = len(arr)\n",
        "  step = int(math.sqrt(b))\n",
        "  left, right = 0, step\n",
        "  while left < b and arr[left] <= target:\n",
        "    counter += 1\n",
        "    if arr[left] == target:\n",
        "      return left, counter\n",
        "    left += step\n",
        "    right += step\n",
        "    if right > b:\n",
        "      right = b\n",
        "  for a in range(left - step, right):\n",
        "    counter += 1\n",
        "    if arr[a] == target:\n",
        "      return a, counter\n",
        "  return -1, counter\n",
        "\n",
        "angka_acak = random.sample(range(1, 1001), 100)\n",
        "\n",
        "angka_terurut = sorted(angka_acak)\n",
        "\n",
        "target = angka_terurut[len(angka_terurut) // 2]\n",
        "\n",
        "linear_index, linear_count = linear_search(angka_acak, target)\n",
        "binary_index, binary_count = binary_search(angka_terurut, target)\n",
        "jump_index, jump_count = jump_search(angka_terurut, target)\n",
        "\n",
        "print(\"Target:\", target)\n",
        "print(\"\\nLinear Search:\")\n",
        "print(f\"Indeks: {linear_index}, Perbandingan: {linear_count}\")\n",
        "print(\"\\nBinary Search:\")\n",
        "print(f\"Indeks: {binary_index}, Perbandingan: {binary_count}\")\n",
        "print(\"\\nJump Search:\")\n",
        "print(f\"Indeks: {jump_index}, Perbandingan: {jump_count}\")\n",
        "\n",
        "print(\"\\nTabel Perbandingan:\")\n",
        "print(f\"{'Algoritma':<15} {'Perbandingan':<15}\")\n",
        "print(f\"{'Linear Search':<15} {'linear_count':<15}\")\n",
        "print(f\"{'Binary Search':<15} {'binary_count':<15}\")\n",
        "print(f\"{'Jump Search':<15} {'jump_count':<15}\")"
      ],
      "metadata": {
        "id": "9TsPaiTXbC57",
        "colab": {
          "base_uri": "https://localhost:8080/"
        },
        "outputId": "e3ef83aa-e3a8-4233-b881-14432c3b651b"
      },
      "execution_count": null,
      "outputs": [
        {
          "output_type": "stream",
          "name": "stdout",
          "text": [
            "Target: 499\n",
            "\n",
            "Linear Search:\n",
            "Indeks: 22, Perbandingan: 23\n",
            "\n",
            "Binary Search:\n",
            "Indeks: 50, Perbandingan: 6\n",
            "\n",
            "Jump Search:\n",
            "Indeks: 50, Perbandingan: 6\n",
            "\n",
            "Tabel Perbandingan:\n",
            "Algoritma       Perbandingan   \n",
            "Linear Search   linear_count   \n",
            "Binary Search   binary_count   \n",
            "Jump Search     jump_count     \n"
          ]
        }
      ]
    }
  ]
}