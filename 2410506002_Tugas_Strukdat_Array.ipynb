{
  "nbformat": 4,
  "nbformat_minor": 0,
  "metadata": {
    "colab": {
      "provenance": []
    },
    "kernelspec": {
      "name": "python3",
      "display_name": "Python 3"
    },
    "language_info": {
      "name": "python"
    }
  },
  "cells": [
    {
      "cell_type": "code",
      "execution_count": 10,
      "metadata": {
        "colab": {
          "base_uri": "https://localhost:8080/"
        },
        "id": "IOE9AHLqrBzy",
        "outputId": "886849bf-869f-438c-931c-efbb6f02b62d"
      },
      "outputs": [
        {
          "output_type": "stream",
          "name": "stdout",
          "text": [
            "Selamat datang di Treasure Hunt! Peta memiliki 10 lokasi (0 hingga 9).\n",
            "Masukkan lokasi harta karun (0-9): 7\n",
            "\n",
            "Harta karun telah disembunyikan! Sekarang giliran pemain menebak.\n",
            "Cobalah untuk menemukan harta karun dengan menabak indeks yang benar.\n",
            "\n",
            "Peta saat ini:  ['_', '_', '_', '_', '_', '_', '_', '_', '_', '_']\n",
            "Masukkan indeks tebakanmu (0-9): 7\n",
            "🎉 Selamat! Kamu menemukan harta karun di lokasi: 7\n",
            "Terima kasih sudah bermain!\n"
          ]
        }
      ],
      "source": [
        "# Ukuran peta\n",
        "size = 10\n",
        "\n",
        "# Membuat peta dengan harta karun tersembunyi\n",
        "treasure_map = [\"_\" for _ in range(size)]\n",
        "\n",
        "# Tentukan lokasi harta karun secara manual\n",
        "print(f\"Selamat datang di Treasure Hunt! Peta memiliki {size} lokasi (0 hingga {size-1}).\")\n",
        "treasure_index = int(input(f\"Masukkan lokasi harta karun (0-{size-1}): \"))\n",
        "while treasure_index < 0 or treasure_index >= size:\n",
        "  print(\"Lokasi tidak valid. Masukkan angka dalam rentang yang benar.\")\n",
        "  treasure_index = int(input(f\"Masukkan lokasi harta karun (0-{size-1}):\"))\n",
        "\n",
        "treasure_map[treasure_index] = \"X\" # Menyembunyikan harta karun di lokasi yang dipilih\n",
        "\n",
        "# Fungsi untuk memulai permainan\n",
        "def play_treasure_hunt():\n",
        "  print(\"\\nHarta karun telah disembunyikan! Sekarang giliran pemain menebak.\")\n",
        "  print(\"Cobalah untuk menemukan harta karun dengan menabak indeks yang benar.\")\n",
        "\n",
        "  # Loop permainan\n",
        "  while True:\n",
        "    # Menampilkan peta tersembunyi kepada pemain\n",
        "    print(\"\\nPeta saat ini: \", [\"_\" for _ in range(size)]) # Peta tersembunyi\n",
        "\n",
        "    # Input pemain\n",
        "    try:\n",
        "      guess = int(input(f\"Masukkan indeks tebakanmu (0-{size-1}): \"))\n",
        "    except ValueError:\n",
        "      print(\"Masukkan angka yang valid!\")\n",
        "      continue\n",
        "\n",
        "    # Validasi input\n",
        "    if guess < 0 or guess >= size:\n",
        "      print(\"Indeks tidak valid, pilih antara 0 hingga\", size-1)\n",
        "      continue\n",
        "\n",
        "    # Mengecek apakah tebakan benar\n",
        "    if treasure_map[guess] == \"X\":\n",
        "      print(\"🎉 Selamat! Kamu menemukan harta karun di lokasi:\", guess)\n",
        "      break\n",
        "    else:\n",
        "      print(\"❌ Tidak ada harta karun di lokasi ini. Coba lagi!\")\n",
        "\n",
        "  print(\"Terima kasih sudah bermain!\")\n",
        "\n",
        "# Jalankan permainan\n",
        "play_treasure_hunt()"
      ]
    },
    {
      "cell_type": "code",
      "source": [
        "import random\n",
        "\n",
        "# Ukuran peta\n",
        "size = int(input(\"Masukkan ukuran yang diinginkan: \"))\n",
        "\n",
        "# Membuat peta dengan harta karun tersembunyi\n",
        "treasure_map = [\"_\" for _ in range(size)]\n",
        "\n",
        "# Tentukan lokasi harta karun secara otomatis\n",
        "treasure_index = random.randint(0, size -1)\n",
        "\n",
        "treasure_map[treasure_index] = \"X\" # Menyembunyikan harta karun di lokasi yang dipilih\n",
        "\n",
        "# Fungsi untuk memulai permainan\n",
        "def play_treasure_hunt():\n",
        "  print(\"\\nHarta karun telah disembunyikan! Sekarang giliran pemain menebak.\")\n",
        "  print(\"Cobalah untuk menemukan harta karun dengan menabak indeks yang benar.\")\n",
        "\n",
        "  # Loop permainan\n",
        "  while True:\n",
        "    # Menampilkan peta tersembunyi kepada pemain\n",
        "    print(\"\\nPeta saat ini: \", [\"_\" for _ in range(size)]) # Peta tersembunyi\n",
        "\n",
        "    # Input pemain\n",
        "    try:\n",
        "      guess = int(input(f\"Masukkan indeks tebakanmu (0 - {size-1}): \"))\n",
        "    except ValueError:\n",
        "      print(\"Masukkan angka yang valid!\")\n",
        "      continue\n",
        "\n",
        "    # Validasi input\n",
        "    if guess < 0 or guess >= size:\n",
        "      print(\"Indeks tidak valid, pilih antara 0 hingga\", size-1)\n",
        "      continue\n",
        "\n",
        "    # Mengecek apakah tebakan benar\n",
        "    if treasure_map[guess] == \"X\":\n",
        "      print(\"🎉 Selamat! Kamu menemukan harta karun di lokasi:\", guess)\n",
        "      break\n",
        "    else:\n",
        "      print(\"❌ Tidak ada harta karun di lokasi ini. Coba lagi!\")\n",
        "\n",
        "  print(\"Terima kasih sudah bermain!\")\n",
        "\n",
        "# Jalanakan permainan\n",
        "play_treasure_hunt()"
      ],
      "metadata": {
        "id": "Y31lhulb42bB",
        "colab": {
          "base_uri": "https://localhost:8080/"
        },
        "outputId": "47080fca-0ab1-4c76-be25-5353723e617c"
      },
      "execution_count": 8,
      "outputs": [
        {
          "output_type": "stream",
          "name": "stdout",
          "text": [
            "Masukkan ukuran yang diinginkan: 7\n",
            "\n",
            "Harta karun telah disembunyikan! Sekarang giliran pemain menebak.\n",
            "Cobalah untuk menemukan harta karun dengan menabak indeks yang benar.\n",
            "\n",
            "Peta saat ini:  ['_', '_', '_', '_', '_', '_', '_']\n",
            "Masukkan indeks tebakanmu (0 - 6): 0\n",
            "❌ Tidak ada harta karun di lokasi ini. Coba lagi!\n",
            "\n",
            "Peta saat ini:  ['_', '_', '_', '_', '_', '_', '_']\n",
            "Masukkan indeks tebakanmu (0 - 6): 1\n",
            "❌ Tidak ada harta karun di lokasi ini. Coba lagi!\n",
            "\n",
            "Peta saat ini:  ['_', '_', '_', '_', '_', '_', '_']\n",
            "Masukkan indeks tebakanmu (0 - 6): 2\n",
            "❌ Tidak ada harta karun di lokasi ini. Coba lagi!\n",
            "\n",
            "Peta saat ini:  ['_', '_', '_', '_', '_', '_', '_']\n",
            "Masukkan indeks tebakanmu (0 - 6): 3\n",
            "❌ Tidak ada harta karun di lokasi ini. Coba lagi!\n",
            "\n",
            "Peta saat ini:  ['_', '_', '_', '_', '_', '_', '_']\n",
            "Masukkan indeks tebakanmu (0 - 6): 4\n",
            "❌ Tidak ada harta karun di lokasi ini. Coba lagi!\n",
            "\n",
            "Peta saat ini:  ['_', '_', '_', '_', '_', '_', '_']\n",
            "Masukkan indeks tebakanmu (0 - 6): 5\n",
            "❌ Tidak ada harta karun di lokasi ini. Coba lagi!\n",
            "\n",
            "Peta saat ini:  ['_', '_', '_', '_', '_', '_', '_']\n",
            "Masukkan indeks tebakanmu (0 - 6): 6\n",
            "🎉 Selamat! Kamu menemukan harta karun di lokasi: 6\n",
            "Terima kasih sudah bermain!\n"
          ]
        }
      ]
    }
  ]
}