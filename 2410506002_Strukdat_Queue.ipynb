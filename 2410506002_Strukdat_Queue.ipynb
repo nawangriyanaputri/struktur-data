{
  "nbformat": 4,
  "nbformat_minor": 0,
  "metadata": {
    "colab": {
      "provenance": [],
      "authorship_tag": "ABX9TyOJu19JfuuMTK+xi8GWXWPo",
      "include_colab_link": true
    },
    "kernelspec": {
      "name": "python3",
      "display_name": "Python 3"
    },
    "language_info": {
      "name": "python"
    }
  },
  "cells": [
    {
      "cell_type": "markdown",
      "metadata": {
        "id": "view-in-github",
        "colab_type": "text"
      },
      "source": [
        "<a href=\"https://colab.research.google.com/github/nawangriyanaputri/struktur-data/blob/main/2410506002_Strukdat_Queue.ipynb\" target=\"_parent\"><img src=\"https://colab.research.google.com/assets/colab-badge.svg\" alt=\"Open In Colab\"/></a>"
      ]
    },
    {
      "cell_type": "code",
      "execution_count": null,
      "metadata": {
        "id": "CzmaS0UTNtD-",
        "colab": {
          "base_uri": "https://localhost:8080/"
        },
        "outputId": "69106293-d456-4ace-f44f-7957e3013199"
      },
      "outputs": [
        {
          "output_type": "stream",
          "name": "stdout",
          "text": [
            "Queue setelah enqueue: [10, 20, 30]\n",
            "Dequeue element: 10\n",
            "Front element: 20\n",
            "Rear element: 30\n",
            "Queue size: 2\n"
          ]
        }
      ],
      "source": [
        "# Implementasi Queue mrnggunakan List\n",
        "class QueueList:\n",
        "  def __init__(self):\n",
        "    self.queue = []\n",
        "\n",
        "  def enqueue(self, item):\n",
        "    self.queue.append(item)\n",
        "\n",
        "  def dequeue(self):\n",
        "    if not self.is_empty():\n",
        "      return self.queue.pop(0)\n",
        "    return None\n",
        "\n",
        "  def front(self):\n",
        "    return self.queue[0] if not self.is_empty() else None\n",
        "\n",
        "  def rear(self):\n",
        "    return self.queue[-1] if not self.is_empty() else None\n",
        "\n",
        "  def is_empty(self):\n",
        "    return len(self.queue) == 0\n",
        "\n",
        "  def size(self):\n",
        "    return len(self.queue)\n",
        "\n",
        "# Contoh Penggunaan\n",
        "queue = QueueList()\n",
        "queue.enqueue(10)\n",
        "queue.enqueue(20)\n",
        "queue.enqueue(30)\n",
        "print(\"Queue setelah enqueue:\", queue.queue)\n",
        "print(\"Dequeue element:\", queue.dequeue())\n",
        "print(\"Front element:\", queue.front())\n",
        "print(\"Rear element:\", queue.rear())\n",
        "print(\"Queue size:\", queue.size())"
      ]
    },
    {
      "cell_type": "code",
      "source": [
        "# Implementasi Queue dengan collections.deque\n",
        "from collections import deque\n",
        "\n",
        "# Implementasi Queue menggunakan deque\n",
        "class QueueDeque:\n",
        "  def __init__(self):\n",
        "    self.queue = deque()\n",
        "\n",
        "  def enqueue(self, item):\n",
        "    self.queue.append(item)\n",
        "\n",
        "  def dequeue(self):\n",
        "    return self.queue.popleft() if not self.is_empty() else None\n",
        "\n",
        "  def front(self):\n",
        "    return self.queue[0] if not self.is_empty() else None\n",
        "\n",
        "  def rear(self):\n",
        "    return self.queue[-1] if not self.is_empty() else None\n",
        "\n",
        "  def is_empty(self):\n",
        "    return len(self.queue) == 0\n",
        "\n",
        "  def size(self):\n",
        "    return len(self.queue)\n",
        "\n",
        "# Contoh Penggunaan\n",
        "queue = QueueDeque()\n",
        "queue.enqueue(10)\n",
        "queue.enqueue(20)\n",
        "queue.enqueue(30)\n",
        "print(\"Queue setelah enqueue:\", list(queue.queue))\n",
        "print(\"Dequeue element:\", queue.dequeue())\n",
        "print(\"Front element:\", queue.front())\n",
        "print(\"Rear element:\", queue.rear())\n",
        "print(\"Queue size:\", queue.size())"
      ],
      "metadata": {
        "colab": {
          "base_uri": "https://localhost:8080/"
        },
        "id": "EABKR512S2xb",
        "outputId": "ea3fd2b0-17cf-429a-ed25-58e6061d3b0c"
      },
      "execution_count": null,
      "outputs": [
        {
          "output_type": "stream",
          "name": "stdout",
          "text": [
            "Queue setelah enqueue: [10, 20, 30]\n",
            "Dequeue element: 10\n",
            "Front element: 20\n",
            "Rear element: 30\n",
            "Queue size: 2\n"
          ]
        }
      ]
    },
    {
      "cell_type": "code",
      "source": [
        "# Implementasi Queue dengan queue.Queue\n",
        "from queue import Queue\n",
        "\n",
        "# Implementasi Queue menggunakan queue.Queue\n",
        "queue = Queue()\n",
        "\n",
        "queue.put(10)\n",
        "queue.put(20)\n",
        "queue.put(30)\n",
        "\n",
        "print(\"Queue size:\", queue.qsize())\n",
        "print(\"Dequeue element:\", queue.get())\n",
        "print(\"Queue size setelah dequeue:\", queue.qsize())"
      ],
      "metadata": {
        "colab": {
          "base_uri": "https://localhost:8080/"
        },
        "id": "yrlFqikCTcnh",
        "outputId": "c9fa170c-17dc-4c0f-c2ee-f66c4c46dcbd"
      },
      "execution_count": null,
      "outputs": [
        {
          "output_type": "stream",
          "name": "stdout",
          "text": [
            "Queue size: 3\n",
            "Dequeue element: 10\n",
            "Queue size setelah dequeue: 2\n"
          ]
        }
      ]
    },
    {
      "cell_type": "code",
      "source": [
        "# Implementasi Queue dengan Linked List\n",
        "class Node:\n",
        "  def __init__(self, data):\n",
        "    self.data = data\n",
        "    self.next = None\n",
        "\n",
        "class QueueLinkedList:\n",
        "  def __init__(self):\n",
        "    self.front = self.rear = None\n",
        "\n",
        "  def enqueue(self, data):\n",
        "    new_node = Node(data)\n",
        "    if self.rear is None:\n",
        "      self.front = self.rear = new_node\n",
        "      return\n",
        "    self.rear.next = new_node\n",
        "    self.rear = new_node\n",
        "\n",
        "  def dequeue(self):\n",
        "    if self.front is None:\n",
        "      return None\n",
        "    dequeued_element = self.front.data\n",
        "    self.front = self.front.next\n",
        "    if self.front is None:\n",
        "      self.rear = None\n",
        "    return dequeued_element\n",
        "\n",
        "  def is_empty(self):\n",
        "    return self.front is None\n",
        "\n",
        "  def front_element(self):\n",
        "    return self.front.data if self.front else None\n",
        "\n",
        "  def rear_element(self):\n",
        "    return self.rear.data if self.rear else None\n",
        "\n",
        "# Contoh Penggunaan\n",
        "queue = QueueLinkedList()\n",
        "queue.enqueue(10)\n",
        "queue.enqueue(20)\n",
        "queue.enqueue(30)\n",
        "print(\"Dequeued element:\", queue.dequeue())\n",
        "print(\"Front element:\", queue.front_element())\n",
        "print(\"Rear element:\", queue.rear_element())"
      ],
      "metadata": {
        "colab": {
          "base_uri": "https://localhost:8080/"
        },
        "id": "wzHOIkUNV7NU",
        "outputId": "969191c0-dda1-45b8-f1f7-5e99144ea346"
      },
      "execution_count": null,
      "outputs": [
        {
          "output_type": "stream",
          "name": "stdout",
          "text": [
            "Dequeued element: 10\n",
            "Front element: 20\n",
            "Rear element: 30\n"
          ]
        }
      ]
    },
    {
      "cell_type": "code",
      "source": [
        "# Latihan 1 : Antrean Pemesanan Tiket Bioskop\n",
        "class AntreanPemesananTiketBioskop:\n",
        "  def __init__(self, kapasitas = 10):\n",
        "    self.items = []\n",
        "    self.kapasitas = kapasitas\n",
        "\n",
        "  def enqueue(self, ticket_id):\n",
        "    if self.size() < self.kapasitas:\n",
        "      self.items.append(ticket_id)\n",
        "    else:\n",
        "      print(\"Antrian penuh, Pelanggan harus menunggu.\")\n",
        "\n",
        "  def dequeue(self):\n",
        "    if not self.is_empty():\n",
        "      return self.items.pop(0)\n",
        "    else:\n",
        "      return \"Antrian kosong.\"\n",
        "\n",
        "  def front(self):\n",
        "    if not self.is_empty():\n",
        "      return self.items[0]\n",
        "    else:\n",
        "      return \"Antrian kosong.\"\n",
        "\n",
        "  def rear(self):\n",
        "    if not self.is_empty():\n",
        "      return self.items[-1]\n",
        "    else:\n",
        "      return \"Antrian kosong.\"\n",
        "\n",
        "  def is_empty(self):\n",
        "    return len(self.items) == 0\n",
        "\n",
        "  def size(self):\n",
        "    return len(self.items)\n",
        "\n",
        "  def is_vip(self, ticket_id):\n",
        "    return '7' in ticket_id\n",
        "\n",
        "antrian = AntreanPemesananTiketBioskop()\n",
        "antrian.enqueue(\"NA02\")\n",
        "\n",
        "antrian.enqueue(\"WA03\")\n",
        "antrian.enqueue(\"NG98\")\n",
        "antrian.enqueue(\"RI87\")\n",
        "\n",
        "print(\"Pelanggan dilayani:\", antrian.dequeue())\n",
        "print(\"Pelanggan dilayani:\", antrian.dequeue())\n",
        "\n",
        "print(\"Pelanggan pertama:\", antrian.front())\n",
        "print(\"Pelanggan terakhir:\", antrian.rear())\n",
        "print(\"Apakah antrian kosong?\", antrian.is_empty())\n",
        "print(\"Jumlah pelanggan:\", antrian.size())\n",
        "\n",
        "if antrian.is_vip(\"RI87\"):\n",
        "  print(\"Pelanggan VIP RI87 langsung mendapatkan kursi.\")\n"
      ],
      "metadata": {
        "id": "8eRdjioGYogk",
        "colab": {
          "base_uri": "https://localhost:8080/"
        },
        "outputId": "0029e712-7741-48bf-e7e2-7fd87599be20"
      },
      "execution_count": 2,
      "outputs": [
        {
          "output_type": "stream",
          "name": "stdout",
          "text": [
            "Pelanggan dilayani: NA02\n",
            "Pelanggan dilayani: WA03\n",
            "Pelanggan pertama: NG98\n",
            "Pelanggan terakhir: RI87\n",
            "Apakah antrian kosong? False\n",
            "Jumlah pelanggan: 2\n",
            "Pelanggan VIP RI87 langsung mendapatkan kursi.\n"
          ]
        }
      ]
    },
    {
      "cell_type": "code",
      "source": [
        "# Latihan 2 : Antrian Layanan Fotokopi Kampus\n",
        "class FotokopiQueue:\n",
        "  def __init__(self):\n",
        "    self.items = []\n",
        "\n",
        "  def enqueue(self, order_id, num_pages):\n",
        "    self.items.append((order_id, num_pages))\n",
        "    print(f\"Pesanan {order_id} dengan {num_pages} halaman ditambahkan ke antrian.\")\n",
        "\n",
        "  def dequeue(self):\n",
        "    if not self.is_empty():\n",
        "      order_id, num_pages = self.items.pop(0)\n",
        "      print(f\"Pesanan {order_id} dilayani.\")\n",
        "      if num_pages > 100:\n",
        "        print(f\"Pesanan {order_id} lebbih dari 100 halaman, ditambahkan kembali untuk tahap kedua.\")\n",
        "        self.enqueue(order_id, num_pages - 100)\n",
        "    else:\n",
        "      print(\"Antrian fotokopi kosong.\")\n",
        "\n",
        "  def front(self):\n",
        "    if not self.is_empty():\n",
        "      return self.items[0]\n",
        "    else:\n",
        "      return \"Antrian fotokopi kosong.\"\n",
        "\n",
        "  def rear(self):\n",
        "    if not self.is_empty():\n",
        "      return self.items[-1]\n",
        "    else:\n",
        "      return \"Antrian fotokopi kosong.\"\n",
        "\n",
        "  def is_empty(self):\n",
        "    return len(self.items) == 0\n",
        "\n",
        "  def size(self):\n",
        "    return len(self.items)\n",
        "\n",
        "  def fast_track(self, order_id, num_pages):\n",
        "    if num_pages < 10:\n",
        "      print(f\"Pesanan {order_id} dengan {num_pages} halaman diproses langsung.\")\n",
        "    else:\n",
        "      self.enqueue(order_id, num_pages)\n",
        "\n",
        "antrian = FotokopiQueue()\n",
        "antrian.enqueue(\"NAW02\", 30)\n",
        "\n",
        "antrian.enqueue(\"RIY18\", 110)\n",
        "antrian.enqueue(\"YAN75\", 5)\n",
        "\n",
        "antrian.dequeue()\n",
        "antrian.dequeue()\n",
        "\n",
        "print(\"Pesanan pertama:\", antrian.front())\n",
        "print(\"Pesanan terakhir:\", antrian.rear())\n",
        "print(\"Apakah antrian kosong?\", antrian.is_empty())\n",
        "print(\"Jumlah pesanan:\", antrian.size())\n",
        "\n",
        "antrian.fast_track(\"AWA91\", 5)"
      ],
      "metadata": {
        "colab": {
          "base_uri": "https://localhost:8080/"
        },
        "id": "yWMGr0Xongyo",
        "outputId": "7064b56e-042d-4c15-ab9e-cc314c414e56"
      },
      "execution_count": 6,
      "outputs": [
        {
          "output_type": "stream",
          "name": "stdout",
          "text": [
            "Pesanan NAW02 dengan 30 halaman ditambahkan ke antrian.\n",
            "Pesanan RIY18 dengan 110 halaman ditambahkan ke antrian.\n",
            "Pesanan YAN75 dengan 5 halaman ditambahkan ke antrian.\n",
            "Pesanan NAW02 dilayani.\n",
            "Pesanan RIY18 dilayani.\n",
            "Pesanan RIY18 lebbih dari 100 halaman, ditambahkan kembali untuk tahap kedua.\n",
            "Pesanan RIY18 dengan 10 halaman ditambahkan ke antrian.\n",
            "Pesanan pertama: ('YAN75', 5)\n",
            "Pesanan terakhir: ('RIY18', 10)\n",
            "Apakah antrian kosong? False\n",
            "Jumlah pesanan: 2\n",
            "Pesanan AWA91 dengan 5 halaman diproses langsung.\n"
          ]
        }
      ]
    },
    {
      "cell_type": "code",
      "source": [
        "# Latihan 3 : Antrian Layanan Parkir Mall\n",
        "class ParkirQueue:\n",
        "    def __init__(self, capacity=15):\n",
        "      self.items = []\n",
        "      self.capacity = capacity\n",
        "\n",
        "    def enqueue(self, vehicle_number, is_electric=False):\n",
        "      if is_electric:\n",
        "          self.items.insert(0, vehicle_number)\n",
        "          print(f\"Kendaraan listrik {vehicle_number} masuk ke parkiran (Prioritas).\")\n",
        "      elif self.size() < self.capacity:\n",
        "          self.items.append(vehicle_number)\n",
        "          print(f\"Kendaraan {vehicle_number} masuk ke parkiran.\")\n",
        "      else:\n",
        "          print(\"Parkiran penuh. Kendaraan harus menunggu.\")\n",
        "\n",
        "    def dequeue(self):\n",
        "      if not self.is_empty():\n",
        "          vehicle_number = self.items.pop(0)\n",
        "          print(f\"Kendaraan {vehicle_number} keluar dari parkiran.\")\n",
        "      else:\n",
        "          print(\"Parkiran kosong.\")\n",
        "\n",
        "    def front(self):\n",
        "      if not self.is_empty():\n",
        "          return self.items[0]\n",
        "      else:\n",
        "          return \"Parkiran kosong.\"\n",
        "\n",
        "    def rear(self):\n",
        "      if not self.is_empty():\n",
        "          return self.items[-1]\n",
        "      else:\n",
        "          return \"Parkiran kosong.\"\n",
        "\n",
        "    def is_empty(self):\n",
        "      return len(self.items) == 0\n",
        "\n",
        "    def size(self):\n",
        "      return len(self.items)\n",
        "\n",
        "parkiran = ParkirQueue()\n",
        "\n",
        "parkiran.enqueue(\"PU02\")\n",
        "\n",
        "parkiran.enqueue(\"RB6389\")\n",
        "parkiran.enqueue(\"AL8745\", is_electric=True)\n",
        "\n",
        "parkiran.dequeue()\n",
        "parkiran.dequeue()\n",
        "\n",
        "print(\"Kendaraan pertama:\", parkiran.front())\n",
        "print(\"Kendaraan terakhir:\", parkiran.rear())\n",
        "print(\"Apakah parkiran kosong?\", parkiran.is_empty())\n",
        "print(\"Jumlah kendaraan:\", parkiran.size())"
      ],
      "metadata": {
        "colab": {
          "base_uri": "https://localhost:8080/"
        },
        "id": "osGFcUshPPk9",
        "outputId": "33a3767e-618d-42a4-ab40-7574add81361"
      },
      "execution_count": 14,
      "outputs": [
        {
          "output_type": "stream",
          "name": "stdout",
          "text": [
            "Kendaraan PU02 masuk ke parkiran.\n",
            "Kendaraan RB6389 masuk ke parkiran.\n",
            "Kendaraan listrik AL8745 masuk ke parkiran (Prioritas).\n",
            "Kendaraan AL8745 keluar dari parkiran.\n",
            "Kendaraan PU02 keluar dari parkiran.\n",
            "Kendaraan pertama: RB6389\n",
            "Kendaraan terakhir: RB6389\n",
            "Apakah parkiran kosong? False\n",
            "Jumlah kendaraan: 1\n"
          ]
        }
      ]
    },
    {
      "cell_type": "code",
      "source": [
        "# Latihan 4 : Antrian Pengambilan Sertifikat di Kampus\n",
        "class SertifikatQueue:\n",
        "    def __init__(self):\n",
        "        self.items = []\n",
        "        self.prestasi_items = []\n",
        "\n",
        "    def enqueue(self, student_id, is_prestasi=False):\n",
        "        if len(self.items) + len(self.prestasi_items) < 20:\n",
        "            if is_prestasi:\n",
        "                self.prestasi_items.append(student_id)\n",
        "                print(f\"Mahasiswa {student_id} ditambahkan ke antrian prestasi.\")\n",
        "            else:\n",
        "                self.items.append(student_id)\n",
        "                print(f\"Mahasiswa {student_id} ditambahkan ke antrian reguler.\")\n",
        "        else:\n",
        "            if is_prestasi:\n",
        "                self.prestasi_items.append(student_id)\n",
        "                print(f\"Mahasiswa {student_id} ditambahkan ke antrian prestasi.\")\n",
        "            else:\n",
        "                self.items.append(student_id)\n",
        "                print(f\"Mahasiswa {student_id} ditambahkan ke antrian reguler.\")\n",
        "\n",
        "    def dequeue(self):\n",
        "        if not self.is_empty():\n",
        "            if self.prestasi_items:\n",
        "                student_id = self.prestasi_items.pop(0)\n",
        "                print(f\"Mahasiswa {student_id} (prestasi) dilayani.\")\n",
        "            else:\n",
        "                student_id = self.items.pop(0)\n",
        "                print(f\"Mahasiswa {student_id} (reguler) dilayani.\")\n",
        "        else:\n",
        "            print(\"Antrian pengambilan sertifikat kosong.\")\n",
        "\n",
        "    def front(self):\n",
        "        if not self.is_empty():\n",
        "            if self.prestasi_items:\n",
        "                return self.prestasi_items[0]\n",
        "            else:\n",
        "                return self.items[0]\n",
        "        else:\n",
        "            return \"Antrian pengambilan sertifikat kosong.\"\n",
        "\n",
        "    def rear(self):\n",
        "        if not self.is_empty():\n",
        "            if self.items:\n",
        "                return self.items[-1]\n",
        "            elif self.prestasi_items:\n",
        "                return self.prestasi_items[-1]\n",
        "        else:\n",
        "            return \"Antrian pengambilan sertifikat kosong.\"\n",
        "\n",
        "    def is_empty(self):\n",
        "        return len(self.items) == 0 and len(self.prestasi_items) == 0\n",
        "\n",
        "    def size(self):\n",
        "        return len(self.items) + len(self.prestasi_items)\n",
        "\n",
        "    def langsung_ambil(self, student_id, kompetisi_nasional=False):\n",
        "        if kompetisi_nasional:\n",
        "            print(f\"Mahasiswa {student_id} langsung mengambil sertifikat (kompetisi nasional).\")\n",
        "        else:\n",
        "            self.enqueue(student_id)\n",
        "\n",
        "antrian_sertifikat = SertifikatQueue()\n",
        "\n",
        "antrian_sertifikat.enqueue(\"TI02\")\n",
        "\n",
        "antrian_sertifikat.enqueue(\"SI18\", is_prestasi=True)\n",
        "antrian_sertifikat.enqueue(\"TM09\")\n",
        "antrian_sertifikat.enqueue(\"EP45\", is_prestasi=True)\n",
        "\n",
        "antrian_sertifikat.dequeue()\n",
        "antrian_sertifikat.dequeue()\n",
        "\n",
        "print(\"Mahasiswa pertama:\", antrian_sertifikat.front())\n",
        "print(\"Mahasiswa terakhir:\", antrian_sertifikat.rear())\n",
        "print(\"Apakah antrian kosong?\", antrian_sertifikat.is_empty())\n",
        "print(\"Jumlah mahasiswa:\", antrian_sertifikat.size())\n",
        "\n",
        "antrian_sertifikat.langsung_ambil(\"AN56\", kompetisi_nasional=True)"
      ],
      "metadata": {
        "colab": {
          "base_uri": "https://localhost:8080/"
        },
        "id": "eX9sVPPjQobu",
        "outputId": "34194306-9c08-445d-bf77-3655352baee8"
      },
      "execution_count": 16,
      "outputs": [
        {
          "output_type": "stream",
          "name": "stdout",
          "text": [
            "Mahasiswa TI02 ditambahkan ke antrian reguler.\n",
            "Mahasiswa SI18 ditambahkan ke antrian prestasi.\n",
            "Mahasiswa TM09 ditambahkan ke antrian reguler.\n",
            "Mahasiswa EP45 ditambahkan ke antrian prestasi.\n",
            "Mahasiswa SI18 (prestasi) dilayani.\n",
            "Mahasiswa EP45 (prestasi) dilayani.\n",
            "Mahasiswa pertama: TI02\n",
            "Mahasiswa terakhir: TM09\n",
            "Apakah antrian kosong? False\n",
            "Jumlah mahasiswa: 2\n",
            "Mahasiswa AN56 langsung mengambil sertifikat (kompetisi nasional).\n"
          ]
        }
      ]
    }
  ]
}