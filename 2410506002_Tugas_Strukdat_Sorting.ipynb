{
  "nbformat": 4,
  "nbformat_minor": 0,
  "metadata": {
    "colab": {
      "provenance": []
    },
    "kernelspec": {
      "name": "python3",
      "display_name": "Python 3"
    },
    "language_info": {
      "name": "python"
    }
  },
  "cells": [
    {
      "cell_type": "code",
      "execution_count": null,
      "metadata": {
        "id": "L9mtZiAZhiMH",
        "colab": {
          "base_uri": "https://localhost:8080/"
        },
        "outputId": "e52e8bca-d094-4b84-f7ba-f89b695bac53"
      },
      "outputs": [
        {
          "output_type": "stream",
          "name": "stdout",
          "text": [
            "\n",
            "Data Pelanggan Diurutkan Berdasarkan Nama:\n",
            "{'nama': 'Isna', 'umur': 25, 'total_belanja': 100000}\n",
            "{'nama': 'Keysha', 'umur': 25, 'total_belanja': 400000}\n",
            "{'nama': 'Mutiara', 'umur': 25, 'total_belanja': 200000}\n",
            "{'nama': 'Nian', 'umur': 24, 'total_belanja': 300000}\n",
            "\n",
            "Data Pelanggan Diurutkan Berdasarkaan Umur:\n",
            "{'nama': 'Nian', 'umur': 24, 'total_belanja': 300000}\n",
            "{'nama': 'Isna', 'umur': 25, 'total_belanja': 100000}\n",
            "{'nama': 'Keysha', 'umur': 25, 'total_belanja': 400000}\n",
            "{'nama': 'Mutiara', 'umur': 25, 'total_belanja': 200000}\n",
            "\n",
            "Data Pelanggan Diurutkan Berdasarkan Total Belanja:\n",
            "{'nama': 'Isna', 'umur': 25, 'total_belanja': 100000}\n",
            "{'nama': 'Mutiara', 'umur': 25, 'total_belanja': 200000}\n",
            "{'nama': 'Nian', 'umur': 24, 'total_belanja': 300000}\n",
            "{'nama': 'Keysha', 'umur': 25, 'total_belanja': 400000}\n"
          ]
        }
      ],
      "source": [
        "# Latihan / Tugas\n",
        "def merge_sort(data, key):\n",
        "  if len(data) <= 1:\n",
        "    return data\n",
        "\n",
        "  mid = len(data) // 2\n",
        "  left_half = merge_sort(data[:mid], key)\n",
        "  right_half = merge_sort(data[mid:], key)\n",
        "\n",
        "  sorted_data = []\n",
        "  a = b = 0\n",
        "\n",
        "  while a < len(left_half) and b < len(right_half):\n",
        "    if left_half[a][key] < right_half[b][key]:\n",
        "      sorted_data.append(left_half[a])\n",
        "      a += 1\n",
        "    else:\n",
        "      sorted_data.append(right_half[b])\n",
        "      b += 1\n",
        "\n",
        "  sorted_data.extend(left_half[a:])\n",
        "  sorted_data.extend(right_half[b:])\n",
        "\n",
        "  return sorted_data\n",
        "\n",
        "data_pelanggan = [\n",
        "     {\"nama\": \"Mutiara\", \"umur\": 25, \"total_belanja\": 200000},\n",
        "     {\"nama\": \"Nian\", \"umur\": 24, \"total_belanja\": 300000},\n",
        "     {\"nama\": \"Keysha\", \"umur\": 25, \"total_belanja\": 400000},\n",
        "     {\"nama\": \"Isna\", \"umur\": 25, \"total_belanja\": 100000}\n",
        "]\n",
        "\n",
        "sorted_data_nama = merge_sort(data_pelanggan, \"nama\")\n",
        "print(\"\\nData Pelanggan Diurutkan Berdasarkan Nama:\")\n",
        "for pelanggan in sorted_data_nama:\n",
        "  print(pelanggan)\n",
        "\n",
        "sorted_data_umur = merge_sort(data_pelanggan, \"umur\")\n",
        "print(\"\\nData Pelanggan Diurutkan Berdasarkaan Umur:\")\n",
        "for pelanggan in sorted_data_umur:\n",
        "  print(pelanggan)\n",
        "\n",
        "sorted_data_total_belanja = merge_sort(data_pelanggan, \"total_belanja\")\n",
        "print(\"\\nData Pelanggan Diurutkan Berdasarkan Total Belanja:\")\n",
        "for pelanggan in sorted_data_total_belanja:\n",
        "  print(pelanggan)"
      ]
    }
  ]
}