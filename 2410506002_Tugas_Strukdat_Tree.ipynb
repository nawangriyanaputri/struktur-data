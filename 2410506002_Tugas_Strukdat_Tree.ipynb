{
  "nbformat": 4,
  "nbformat_minor": 0,
  "metadata": {
    "colab": {
      "provenance": []
    },
    "kernelspec": {
      "name": "python3",
      "display_name": "Python 3"
    },
    "language_info": {
      "name": "python"
    }
  },
  "cells": [
    {
      "cell_type": "code",
      "execution_count": null,
      "metadata": {
        "colab": {
          "base_uri": "https://localhost:8080/"
        },
        "id": "tCc4991M06tb",
        "outputId": "b7917532-d27c-418d-9740-3d725ca32dc4"
      },
      "outputs": [
        {
          "output_type": "stream",
          "name": "stdout",
          "text": [
            "Hasil inorder traversal dari binary tree:\n",
            "9 7 15 99 1 "
          ]
        }
      ],
      "source": [
        "# Tugas 1: Program Struktur Binary Tree Manual\n",
        "\n",
        "class Node:\n",
        "  def __init__(self, data):\n",
        "    self.data = data\n",
        "    self.left = None\n",
        "    self.right = None\n",
        "\n",
        "# Struktur Tree Berdasarkan Identitas Saya\n",
        "  # Jumlah Huruf : 15\n",
        "  # Vokal : 7\n",
        "  # NPM : 99\n",
        "  # Tanggal : 09\n",
        "  # Bulan : 01\n",
        "# Membuat tree secara manual\n",
        "root = Node(15)\n",
        "root.left = Node(7)\n",
        "root.right = Node(99)\n",
        "root.left.left = Node(9)\n",
        "root.right.right = Node(1)\n",
        "\n",
        "# Fungsi inorder traversal\n",
        "def inorder_traversal(node):\n",
        "  if node:\n",
        "    inorder_traversal(node.left)\n",
        "    print(node.data, end=' ')\n",
        "    inorder_traversal(node.right)\n",
        "\n",
        "print(\"Hasil inorder traversal dari binary tree:\")\n",
        "inorder_traversal(root)"
      ]
    },
    {
      "cell_type": "code",
      "source": [
        "# Tugas 2: Program Binary Search Tree (BST)\n",
        "\n",
        "# Membuat Class Node\n",
        "class Node:\n",
        "  def __init__(self, data): # Membuat fungsi yang kosong\n",
        "    self.data = data\n",
        "    self.left = None\n",
        "    self.right = None\n",
        "\n",
        "# Membuat Class Binary Search Tree\n",
        "class BinarySearchTree:\n",
        "  def __init__(self):  # Membua fungsi kosong\n",
        "    self.root = None\n",
        "\n",
        "  def insert(self, root, data): # Membuat fungsi untuk menyisipkan nilai\n",
        "    if root is None:\n",
        "      return Node(data)\n",
        "    if data < root.data:\n",
        "      root.left = self.insert(root.left, data)\n",
        "    else:\n",
        "      root.right = self.insert(root.right, data)\n",
        "    return root\n",
        "\n",
        "# Traversal pada BST\n",
        "  def inorder(self, node): # Membuat fungsi inorder\n",
        "    if node:\n",
        "      self.inorder(node.left)\n",
        "      print(node.data, end=' ')\n",
        "      self.inorder(node.right)\n",
        "\n",
        "  def preorder(self, node): # Membuat fungsi preorder\n",
        "    if node:\n",
        "      print(node.data, end=' ')\n",
        "      self.preorder(node.left)\n",
        "      self.preorder(node.right)\n",
        "\n",
        "  def postorder(self, node): # Membuat fungsi postorder\n",
        "    if node:\n",
        "      self.postorder(node.left)\n",
        "      self.postorder(node.right)\n",
        "      print(node.data, end=' ')\n",
        "\n",
        "# Pencarian Nilai dalam BST\n",
        "  def search(self, node, key): # Membuat fungsi search\n",
        "    if node is None or node.data == key:\n",
        "      return node\n",
        "    if key < node.data:\n",
        "      return self.search(node.left, key)\n",
        "    return self.search(node.right, key)\n",
        "\n",
        "# Daftar 7 angka :\n",
        "  # NPM : 602\n",
        "  # tanggal : 09\n",
        "  # bulan : 01\n",
        "  # huruf pertama : 78\n",
        "  # huruf kedua 65\n",
        "  # angka bebas : 18 dan 13\n",
        "\n",
        "# Data\n",
        "data_list = [602, 9, 1, 78, 65, 18, 13]\n",
        "bst = BinarySearchTree()\n",
        "root = None\n",
        "\n",
        "# Menggunakan BST\n",
        "for value in data_list:\n",
        "  root = bst.insert(root, value)\n",
        "\n",
        "# Hasil Traversal Inorder\n",
        "print(\"Inorder Traversal:\")\n",
        "bst.inorder(root)\n",
        "# Hasil Traversal Preorder\n",
        "print(\"\\nPerorder Traversal:\")\n",
        "bst.preorder(root)\n",
        "# Hasil Traversal Postorder\n",
        "print(\"\\nPostorder Traversal:\")\n",
        "bst.postorder(root)\n",
        "\n",
        "print(\" \")\n",
        "# Uji pencarian\n",
        "key = 2\n",
        "result = bst.search(root, key)\n",
        "if result:\n",
        "  print(f\"\\n{key} ditemukan.\")\n",
        "else:\n",
        "  print(f\"\\n{key} tidak ditemukan.\")\n",
        "\n",
        "key = 21\n",
        "result = bst.search(root, key)\n",
        "if result:\n",
        "  print(f\"{key} ditemukan.\")\n",
        "else:\n",
        "  print(f\"{key} tidak ditemukan.\")"
      ],
      "metadata": {
        "colab": {
          "base_uri": "https://localhost:8080/"
        },
        "id": "pUKY5If36Bbl",
        "outputId": "6e83f0b4-aa25-48a1-aed5-0949a965b61f"
      },
      "execution_count": 2,
      "outputs": [
        {
          "output_type": "stream",
          "name": "stdout",
          "text": [
            "Inorder Traversal:\n",
            "1 9 13 18 65 78 602 \n",
            "Perorder Traversal:\n",
            "602 9 1 78 65 18 13 \n",
            "Postorder Traversal:\n",
            "1 13 18 65 78 9 602  \n",
            "\n",
            "2 tidak ditemukan.\n",
            "21 tidak ditemukan.\n"
          ]
        }
      ]
    }
  ]
}