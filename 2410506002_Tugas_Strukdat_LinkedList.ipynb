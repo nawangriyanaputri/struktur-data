{
  "nbformat": 4,
  "nbformat_minor": 0,
  "metadata": {
    "colab": {
      "provenance": []
    },
    "kernelspec": {
      "name": "python3",
      "display_name": "Python 3"
    },
    "language_info": {
      "name": "python"
    }
  },
  "cells": [
    {
      "cell_type": "code",
      "execution_count": 1,
      "metadata": {
        "id": "ioI9BlPZ0rYU",
        "colab": {
          "base_uri": "https://localhost:8080/"
        },
        "outputId": "2a25906f-f361-4fd4-a705-e5233811f93c"
      },
      "outputs": [
        {
          "output_type": "stream",
          "name": "stdout",
          "text": [
            "Masukkan nama satpam ke-1: nawang\n",
            "Masukkan nama satpam ke-2: kartika\n",
            "Masukkan nama satpam ke-3: apfia\n",
            "Masukkan nama satpam ke-4: david\n",
            "\n",
            " Jadwal Piket Satpam Selama 2 Minggu:\n",
            "Hari 1: nawang\n",
            "Hari 2: kartika\n",
            "Hari 3: apfia\n",
            "Hari 4: david\n",
            "Hari 5: nawang\n",
            "Hari 6: kartika\n",
            "Hari 7: apfia\n",
            "Hari 8: david\n",
            "Hari 9: nawang\n",
            "Hari 10: kartika\n",
            "Hari 11: apfia\n",
            "Hari 12: david\n",
            "Hari 13: nawang\n",
            "Hari 14: kartika\n"
          ]
        }
      ],
      "source": [
        "# Tugas (Aplikasi Jadwal Piket Satpam)\n",
        "class SatpamNode:\n",
        "  def __init__(self, nama):\n",
        "    self.nama = nama\n",
        "    self.next = None\n",
        "\n",
        "class JadwalPiket:\n",
        "  def __init__(self):\n",
        "    self.current = None\n",
        "\n",
        "  def add_satpam(self, nama):\n",
        "    new_satpam = SatpamNode(nama)\n",
        "    if not self.current:\n",
        "      self.current = new_satpam\n",
        "      self.current.next = self.current\n",
        "    else:\n",
        "      temp = self.current\n",
        "      while temp.next != self.current:\n",
        "        temp = temp.next\n",
        "      temp.next = new_satpam\n",
        "      new_satpam.next = self.current\n",
        "\n",
        "  def show_satpam(self):\n",
        "    if not self.current:\n",
        "      print(\"\\n Jadwal Piket Satpam kosong!\")\n",
        "      return\n",
        "\n",
        "    print(\"\\n Jadwal Piket Satpam Selama 2 Minggu:\")\n",
        "    temp = self.current\n",
        "    for hari in range(1, 15):\n",
        "      print(f\"Hari {hari}: {temp.nama}\")\n",
        "      temp = temp.next\n",
        "\n",
        "jadwal = JadwalPiket()\n",
        "\n",
        "for i in range(1, 5):\n",
        "  nama = input(f\"Masukkan nama satpam ke-{i}: \")\n",
        "  jadwal.add_satpam(nama)\n",
        "\n",
        "jadwal.show_satpam()"
      ]
    }
  ]
}