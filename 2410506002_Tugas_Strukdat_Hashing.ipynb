{
  "nbformat": 4,
  "nbformat_minor": 0,
  "metadata": {
    "colab": {
      "provenance": [],
      "authorship_tag": "ABX9TyPx5JDprxFvbjw0IEzHzRnV",
      "include_colab_link": true
    },
    "kernelspec": {
      "name": "python3",
      "display_name": "Python 3"
    },
    "language_info": {
      "name": "python"
    }
  },
  "cells": [
    {
      "cell_type": "markdown",
      "metadata": {
        "id": "view-in-github",
        "colab_type": "text"
      },
      "source": [
        "<a href=\"https://colab.research.google.com/github/nawangriyanaputri/struktur-data/blob/main/2410506002_Tugas_Strukdat_Hashing.ipynb\" target=\"_parent\"><img src=\"https://colab.research.google.com/assets/colab-badge.svg\" alt=\"Open In Colab\"/></a>"
      ]
    },
    {
      "cell_type": "code",
      "execution_count": null,
      "metadata": {
        "colab": {
          "base_uri": "https://localhost:8080/"
        },
        "id": "x7xQ-5wf3bEI",
        "outputId": "9fed5bbc-8951-4b6f-c787-e4ed274ebd72"
      },
      "outputs": [
        {
          "output_type": "stream",
          "name": "stdout",
          "text": [
            "Isi tabel setelah data dimasukkan:\n",
            "Index 0: ('E', 50)\n",
            "Index 1: ('C', 30)\n",
            "Index 2: ('B', 20)\n",
            "Index 3: ('A', 10)\n",
            "Index 4: ('D', 40)\n"
          ]
        }
      ],
      "source": [
        "# Eksperimen Sederhana Linear Probing\n",
        "\n",
        "# a. Buat objek LinearProbingHashTable dengan ukuran table 5\n",
        "class LinearProbingHashTable:\n",
        "  def __init__(self, size):\n",
        "    self.size = size\n",
        "    self.table = [None] * size\n",
        "\n",
        "  def hash_function(self, key):\n",
        "    return hash(key) % self.size\n",
        "\n",
        "  def insert(self, key, value):\n",
        "    index = self.hash_function(key)\n",
        "    original_index = index\n",
        "\n",
        "    while self.table[index] is not None:\n",
        "      if self.table[index][0] == key:\n",
        "        break\n",
        "      index = (index + 1) % self.size\n",
        "      if index == original_index:\n",
        "        print(\"Tabel penuh\")\n",
        "        return\n",
        "\n",
        "    self.table[index] = (key, value)\n",
        "\n",
        "  def display(self):\n",
        "    for i, entry in enumerate(self.table):\n",
        "      print(f\"Index {i}: {entry}\")\n",
        "\n",
        "# Masukkan pasangan key-value berikut:\n",
        "ht = LinearProbingHashTable(5)\n",
        "ht.insert(\"A\", 10)\n",
        "ht.insert(\"B\", 20)\n",
        "ht.insert(\"C\", 30)\n",
        "ht.insert(\"D\", 40)\n",
        "ht.insert(\"E\", 50)\n",
        "\n",
        "print(\"Isi tabel setelah data dimasukkan:\")\n",
        "ht.display()"
      ]
    },
    {
      "cell_type": "code",
      "source": [
        "# Percobaan dasar Chaining\n",
        "class ChainingHashTable:\n",
        "  def __init__(self, size):\n",
        "    self.size = size\n",
        "    self.table = [[] for _ in range(size)]\n",
        "\n",
        "  def hash_function(self, key):\n",
        "    return hash(key) % self.size\n",
        "\n",
        "  def insert(self, key, value):\n",
        "    index = self.hash_function(key)\n",
        "    for i, (k, v) in enumerate(self.table[index]):\n",
        "      if k == key:\n",
        "        self.table[index][i] = (key, value)\n",
        "        return\n",
        "    self.table[index].append((key, value))\n",
        "\n",
        "  def search(self, key):\n",
        "    index = self.hash_function(key)\n",
        "    for k, v in self.table[index]:\n",
        "      if k == key:\n",
        "        return v\n",
        "    return None\n",
        "\n",
        "  def display(self):\n",
        "    for i, slot in enumerate(self.table):\n",
        "      print(f\"Slot {i}: {slot}\")\n",
        "\n",
        "# Contoh penggunaan\n",
        "ht = ChainingHashTable(3)\n",
        "ht.insert(\"apel\", 100)\n",
        "ht.insert(\"melon\", 200)\n",
        "ht.insert(\"lemon\", 300)\n",
        "ht.insert(\"pisang\", 400)\n",
        "\n",
        "print(\"Isi tabel setelah semua data dimasukkan:\")\n",
        "ht.display()"
      ],
      "metadata": {
        "colab": {
          "base_uri": "https://localhost:8080/"
        },
        "id": "-_0Ikb3RCK7k",
        "outputId": "c4dc1f3d-7866-4814-c9c7-6cf3a3494a97"
      },
      "execution_count": null,
      "outputs": [
        {
          "output_type": "stream",
          "name": "stdout",
          "text": [
            "Isi tabel setelah semua data dimasukkan:\n",
            "Slot 0: [('lemon', 300)]\n",
            "Slot 1: [('pisang', 400)]\n",
            "Slot 2: [('apel', 100), ('melon', 200)]\n"
          ]
        }
      ]
    }
  ]
}