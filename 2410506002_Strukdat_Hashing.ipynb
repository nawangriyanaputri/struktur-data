{
  "nbformat": 4,
  "nbformat_minor": 0,
  "metadata": {
    "colab": {
      "provenance": [],
      "authorship_tag": "ABX9TyO5YtIc98z9rwabtAp6N8w7",
      "include_colab_link": true
    },
    "kernelspec": {
      "name": "python3",
      "display_name": "Python 3"
    },
    "language_info": {
      "name": "python"
    }
  },
  "cells": [
    {
      "cell_type": "markdown",
      "metadata": {
        "id": "view-in-github",
        "colab_type": "text"
      },
      "source": [
        "<a href=\"https://colab.research.google.com/github/nawangriyanaputri/struktur-data/blob/main/2410506002_Strukdat_Hashing.ipynb\" target=\"_parent\"><img src=\"https://colab.research.google.com/assets/colab-badge.svg\" alt=\"Open In Colab\"/></a>"
      ]
    },
    {
      "cell_type": "code",
      "execution_count": null,
      "metadata": {
        "colab": {
          "base_uri": "https://localhost:8080/"
        },
        "id": "9-Fi78KuvoEb",
        "outputId": "ec883601-69a3-4e87-c529-14d67aa3010a"
      },
      "outputs": [
        {
          "output_type": "stream",
          "name": "stdout",
          "text": [
            "Nilai untuk 'apel': 100\n",
            "Nilai untuk 'pisang': 200\n"
          ]
        }
      ],
      "source": [
        "# Implementasi Hasil Table Sederhana\n",
        "class SimpleHashTable:\n",
        "  def __init__(self, size):\n",
        "    self.size = size\n",
        "    self.table = [None] * size\n",
        "\n",
        "  def hash_function(self, key):\n",
        "    return hash(key) % self.size\n",
        "\n",
        "  def insert(self, key, value):\n",
        "    index = self.hash_function(key)\n",
        "    self.table[index] = value\n",
        "\n",
        "  def search(self, key):\n",
        "    index = self.hash_function(key)\n",
        "    return self.table[index]\n",
        "\n",
        "# Contoh Penggunaan\n",
        "ht = SimpleHashTable(10)\n",
        "ht.insert(\"apel\", 100)\n",
        "ht.insert(\"pisang\", 200)\n",
        "\n",
        "print(\"Nilai untuk 'apel':\", ht.search(\"apel\"))\n",
        "print(\"Nilai untuk 'pisang':\", ht.search(\"pisang\"))"
      ]
    },
    {
      "cell_type": "code",
      "source": [
        "# Penanganan Collision dengan Linear Probing\n",
        "class LinearProbingHashTable:\n",
        "  def __init__(self, size):\n",
        "    self.size = size\n",
        "    self.table = [None] * size\n",
        "\n",
        "  def hash_function(self, key):\n",
        "    return hash(key) % self.size\n",
        "\n",
        "  def insert(self, key, value):\n",
        "    index = self.hash_function(key)\n",
        "    original_index = index\n",
        "\n",
        "    while self.table[index] is not None:\n",
        "      if self.table[index][0] == key:\n",
        "        break\n",
        "      index = (index + 1) % self.size\n",
        "      if index == original_index:\n",
        "        raise Exception(\"Hash table penuh\")\n",
        "\n",
        "    self.table[index] = (key, value)\n",
        "\n",
        "  def search(self, key):\n",
        "    index = self.hash_function(key)\n",
        "    original_index = index\n",
        "\n",
        "    while self.table[index] is not None:\n",
        "      if self.table[index][0] == key:\n",
        "        return self.table[index][1]\n",
        "      index = (index + 1) % self.size\n",
        "      if index == original_index:\n",
        "        break\n",
        "    return None\n",
        "\n",
        "# Contoh penggunaan\n",
        "ht = LinearProbingHashTable(5)\n",
        "ht.insert(\"apel\", 100)\n",
        "ht.insert(\"pisang\", 200)\n",
        "ht.insert(\"jeruk\", 300)\n",
        "\n",
        "print(\"Nilai untuk 'apel':\", ht.search(\"apel\"))\n",
        "print(\"Nilai untuk 'melon':\", ht.search(\"melon\"))"
      ],
      "metadata": {
        "colab": {
          "base_uri": "https://localhost:8080/"
        },
        "id": "XNvNYyPDyJ5P",
        "outputId": "c030add5-ab82-4f5d-bbd2-920d9d0e3bfa"
      },
      "execution_count": null,
      "outputs": [
        {
          "output_type": "stream",
          "name": "stdout",
          "text": [
            "Nilai untuk 'apel': 100\n",
            "Nilai untuk 'melon': None\n"
          ]
        }
      ]
    },
    {
      "cell_type": "code",
      "source": [
        "# Penanganan Collision dengan Chaning\n",
        "class ChainingHashTable:\n",
        "  def __init__(self, size):\n",
        "    self.size = size\n",
        "    self.table = [[] for _ in range(size)]\n",
        "\n",
        "  def hash_function(self, key):\n",
        "    return hash(key) % self.size\n",
        "\n",
        "  def insert(self, key, value):\n",
        "    index = self.hash_function(key)\n",
        "    for i, (k, v) in enumerate(self.table[index]):\n",
        "      if k == key:\n",
        "        self.table[index][i] = (key, value)\n",
        "        return\n",
        "    self.table[index].append((key, value))\n",
        "\n",
        "  def search(self, key):\n",
        "    index = self.hash_function(key)\n",
        "    for k, v in self.table[index]:\n",
        "      if k == key:\n",
        "        return v\n",
        "    return None\n",
        "\n",
        "# Contoh penggunaan\n",
        "ht = ChainingHashTable(5)\n",
        "ht.insert(\"apel\", 100)\n",
        "ht.insert(\"pisang\", 200)\n",
        "ht.insert(\"melon\", 300)\n",
        "\n",
        "print(\"Nilai untuk 'apel':\", ht.search(\"apel\"))\n",
        "print(\"Nilai untuk 'melon':\", ht.search(\"melon\"))"
      ],
      "metadata": {
        "colab": {
          "base_uri": "https://localhost:8080/"
        },
        "id": "G_J75aRMyvPn",
        "outputId": "f5bacf0e-e2b0-419d-c6ae-0c17aa145e4b"
      },
      "execution_count": null,
      "outputs": [
        {
          "output_type": "stream",
          "name": "stdout",
          "text": [
            "Nilai untuk 'apel': 100\n",
            "Nilai untuk 'melon': 300\n"
          ]
        }
      ]
    }
  ]
}