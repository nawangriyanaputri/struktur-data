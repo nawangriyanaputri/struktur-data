{
  "nbformat": 4,
  "nbformat_minor": 0,
  "metadata": {
    "colab": {
      "provenance": []
    },
    "kernelspec": {
      "name": "python3",
      "display_name": "Python 3"
    },
    "language_info": {
      "name": "python"
    }
  },
  "cells": [
    {
      "cell_type": "code",
      "execution_count": null,
      "metadata": {
        "colab": {
          "base_uri": "https://localhost:8080/"
        },
        "id": "hUQcqkb6OsRA",
        "outputId": "852ffd2d-a1e7-4e11-c37d-728028bfdbbb"
      },
      "outputs": [
        {
          "output_type": "stream",
          "name": "stdout",
          "text": [
            "[5]\n"
          ]
        }
      ],
      "source": [
        "# Push(x) - Menambahkan Elemen ke Stack\n",
        "class Stack:\n",
        "  def __init__(self):\n",
        "    self.stack = []\n",
        "\n",
        "  def push(self, item):\n",
        "    self.stack.append(item)\n",
        "\n",
        "# Contoh penggunaan\n",
        "s = Stack()\n",
        "s.push(5)\n",
        "print(s.stack) # Output: [5]"
      ]
    },
    {
      "cell_type": "code",
      "source": [
        "# Pop() - Menghapus Elemen dari Stack\n",
        "class Stack:\n",
        "  def __init__(self):\n",
        "    self.stack = []\n",
        "\n",
        "  def push(self, item):\n",
        "    self.stack.append(item)\n",
        "\n",
        "  def pop(self):\n",
        "    if len(self.stack) == 0:\n",
        "      return \"Stack Kosong\"\n",
        "    return self.stack.pop()\n",
        "\n",
        "# Contoh penggunaan\n",
        "s = Stack()\n",
        "s.push(5)\n",
        "s.push(10)\n",
        "print(s.pop()) # Output: 10\n",
        "print(s.stack) # Output:[5]"
      ],
      "metadata": {
        "colab": {
          "base_uri": "https://localhost:8080/"
        },
        "id": "Dq0APYUnRbIK",
        "outputId": "701b05a7-720d-44c5-e628-4951922f1451"
      },
      "execution_count": null,
      "outputs": [
        {
          "output_type": "stream",
          "name": "stdout",
          "text": [
            "10\n",
            "[5]\n"
          ]
        }
      ]
    },
    {
      "cell_type": "code",
      "source": [
        "# Peek()-Melihat Elemen Teratas Tanpa Menghapusnya\n",
        "class Stack:\n",
        "  def __init__(self):\n",
        "    self.stack = []\n",
        "\n",
        "  def push(self, item):\n",
        "    self.stack.append(item)\n",
        "\n",
        "  def peek(self):\n",
        "    if len(self.stack) == 0:\n",
        "      return \"Stack Kosong\"\n",
        "    return self.stack[-1]\n",
        "\n",
        "# Contoh penggunaan\n",
        "s = Stack()\n",
        "s.push(5)\n",
        "s.push(10)\n",
        "print(s.peek()) # Output: 10\n",
        "print(s.stack) # Stack tetap [5, 10]"
      ],
      "metadata": {
        "colab": {
          "base_uri": "https://localhost:8080/"
        },
        "id": "w9NKFhEARyqa",
        "outputId": "db41f0b6-0f92-43b7-ae35-53fd1a22533a"
      },
      "execution_count": null,
      "outputs": [
        {
          "output_type": "stream",
          "name": "stdout",
          "text": [
            "10\n",
            "[5, 10]\n"
          ]
        }
      ]
    },
    {
      "cell_type": "code",
      "source": [
        "# isEmpty()-Mengecek Apakah Stack Kosong\n",
        "class Stack:\n",
        "  def __init__(self):\n",
        "    self.stack = []\n",
        "\n",
        "  def push(self, item):\n",
        "    self.stack.append(item)\n",
        "\n",
        "  def is_empty(self):\n",
        "    return len(self.stack) == 0\n",
        "\n",
        "# Contoh penggunaan\n",
        "s = Stack()\n",
        "print(s.is_empty()) # Output: True\n",
        "s.push(5)\n",
        "print(s.is_empty()) # Output: False"
      ],
      "metadata": {
        "colab": {
          "base_uri": "https://localhost:8080/"
        },
        "id": "B5DOvvIoT_v7",
        "outputId": "8930d8d6-a7bb-4a8a-c1fa-2de0254a5912"
      },
      "execution_count": null,
      "outputs": [
        {
          "output_type": "stream",
          "name": "stdout",
          "text": [
            "True\n",
            "False\n"
          ]
        }
      ]
    },
    {
      "cell_type": "code",
      "source": [
        "# Implementasi Stack dengan List Python - Fitur \"Undo\" dalam Teks Editor(pop())\n",
        "class TextEditor:\n",
        "  def __init__(self):\n",
        "    self.history = []\n",
        "\n",
        "  def write(self, text):\n",
        "    self.history.append(text)\n",
        "\n",
        "  def undo(self):\n",
        "    if self.history:\n",
        "      return f\"Undo: Menghapus '{self.history.pop()}'\"\n",
        "    return \"Tidak ada yang bisa di-undo\"\n",
        "\n",
        "# Contoh penggunaan\n",
        "editor = TextEditor()\n",
        "editor.write(\"Halo, ini teks pertama.\")\n",
        "editor.write(\"Ini teks kedua.\")\n",
        "editor.write(\"Ini teks ketiga.\")\n",
        "\n",
        "print(editor.undo())\n",
        "print(editor.undo())"
      ],
      "metadata": {
        "colab": {
          "base_uri": "https://localhost:8080/"
        },
        "id": "zhKNEplxWvnU",
        "outputId": "328f2244-dfe3-46d8-d5c0-cfb535d0d492"
      },
      "execution_count": null,
      "outputs": [
        {
          "output_type": "stream",
          "name": "stdout",
          "text": [
            "Undo: Menghapus 'Ini teks ketiga.'\n",
            "Undo: Menghapus 'Ini teks kedua.'\n"
          ]
        }
      ]
    },
    {
      "cell_type": "code",
      "source": [
        "# Latihan 1\n",
        "class Kalkulator:\n",
        "  def __init__(self, angka_awal):\n",
        "    self.angka = angka_awal\n",
        "    self.history = []\n",
        "\n",
        "  def tambah(self, bilangan):\n",
        "    self.history.append(self.angka)\n",
        "    self.angka += bilangan\n",
        "    print(f\"{self.angka - bilangan} + {bilangan} = {self.angka}\")\n",
        "\n",
        "  def kurang(self, bilangan):\n",
        "    self.history.append(self.angka)\n",
        "    self.angka -= bilangan\n",
        "    print(f\"{self.angka + bilangan} - {bilangan} = {self.angka}\")\n",
        "\n",
        "  def kali(self, bilangan):\n",
        "    self.history.append(self.angka)\n",
        "    self.angka *= bilangan\n",
        "    print(f\"{self.angka / bilangan} * {bilangan} = {self.angka}\")\n",
        "\n",
        "  def bagi(self, bilangan):\n",
        "    if bilangan == 0:\n",
        "      print(\"Tidak dapat dibagi dengan nol\")\n",
        "      return\n",
        "    self.history.append(self.angka)\n",
        "    self.angka /= bilangan\n",
        "    print(f\"{self.angka * bilangan} / {bilangan} = {self.angka}\")\n",
        "\n",
        "  def undo(self):\n",
        "    if self.history:\n",
        "      self.angka = self.history.pop()\n",
        "      return f\"Undo: Perintah Kalkulator {self.angka}\"\n",
        "    else:\n",
        "      return \"Tidak ada yang bisa di-undo\"\n",
        "\n",
        "# Contoh penggunaan\n",
        "angka_awal = 2\n",
        "kalkulator = Kalkulator(angka_awal)\n",
        "\n",
        "kalkulator.tambah(3)\n",
        "kalkulator.kurang(4)\n",
        "kalkulator.kali(6)\n",
        "kalkulator.bagi(6)\n",
        "\n",
        "kalkulator.undo()\n",
        "kalkulator.undo()\n",
        "kalkulator.undo()\n",
        "kalkulator.undo()\n",
        "kalkulator.undo()"
      ],
      "metadata": {
        "colab": {
          "base_uri": "https://localhost:8080/",
          "height": 109
        },
        "id": "7i1XpmosccyF",
        "outputId": "817ebaeb-deba-43ed-f309-85346a84ad1e"
      },
      "execution_count": null,
      "outputs": [
        {
          "output_type": "stream",
          "name": "stdout",
          "text": [
            "2 + 3 = 5\n",
            "5 - 4 = 1\n",
            "1.0 * 6 = 6\n",
            "6.0 / 6 = 1.0\n"
          ]
        },
        {
          "output_type": "execute_result",
          "data": {
            "text/plain": [
              "'Tidak ada yang bisa di-undo'"
            ],
            "application/vnd.google.colaboratory.intrinsic+json": {
              "type": "string"
            }
          },
          "metadata": {},
          "execution_count": 14
        }
      ]
    },
    {
      "cell_type": "code",
      "source": [
        "# Implementasi Stack dengan collections.deque - Navigasi History Browser (push())\n",
        "from collections import deque\n",
        "\n",
        "class BrowserHistory:\n",
        "  def __init__(self):\n",
        "    self.history = deque()\n",
        "\n",
        "  def visit(self, url):\n",
        "    self.history.append(url)\n",
        "    print(f\"Mengunjungi: {url}\")\n",
        "\n",
        "  def back(self):\n",
        "    if self.history:\n",
        "      print(f\"Kembali ke: {self.history.pop()}\")\n",
        "    else:\n",
        "      print(\"Tidak ada riwayat!\")\n",
        "\n",
        "# Contoh penggunaan\n",
        "browser = BrowserHistory()\n",
        "browser.visit(\"google.com\")\n",
        "browser.visit(\"youtube.com\")\n",
        "browser.visit(\"github.com\")\n",
        "\n",
        "browser.back()\n",
        "browser.back()"
      ],
      "metadata": {
        "colab": {
          "base_uri": "https://localhost:8080/"
        },
        "id": "pHkj-4-zc31r",
        "outputId": "fa18eae1-3b14-4280-f920-1e8d1330f67a"
      },
      "execution_count": null,
      "outputs": [
        {
          "output_type": "stream",
          "name": "stdout",
          "text": [
            "Mengunjungi: google.com\n",
            "Mengunjungi: youtube.com\n",
            "Mengunjungi: github.com\n",
            "Kembali ke: github.com\n",
            "Kembali ke: youtube.com\n"
          ]
        }
      ]
    },
    {
      "cell_type": "code",
      "source": [
        "# Latihan 2\n",
        "from collections import deque\n",
        "\n",
        "class NavigasiHistoryAplikasi:\n",
        "  def __init__(self, nama_fitur):\n",
        "    self.nama_fitur = nama_fitur\n",
        "    self.history = deque()\n",
        "\n",
        "  def visit(self, fitur):\n",
        "    self.history.append(fitur)\n",
        "    print(f\"Mengunjungi: {fitur}\")\n",
        "\n",
        "  def back(self):\n",
        "    if self.history:\n",
        "      fitur_sebelumnya = self.history.pop()\n",
        "      print(f\"Kembali ke: {fitur_sebelumnya}\")\n",
        "    else:\n",
        "      print(\"Tidak ada riwayat!\")\n",
        "\n",
        "# Contoh penggunaan\n",
        "Nama_fitur_aplikasi = \"J02\"\n",
        "apps = NavigasiHistoryAplikasi(Nama_fitur_aplikasi)\n",
        "apps.visit(\"Beranda\")\n",
        "apps.visit(\"Profil\")\n",
        "apps.visit(\"Setting\")\n",
        "\n",
        "apps.back()\n",
        "apps.back()\n",
        "apps.back()"
      ],
      "metadata": {
        "id": "Mp9TgYK2fqeW",
        "colab": {
          "base_uri": "https://localhost:8080/"
        },
        "outputId": "b1224308-6631-4112-f0ec-0e0422f5bc8e"
      },
      "execution_count": null,
      "outputs": [
        {
          "output_type": "stream",
          "name": "stdout",
          "text": [
            "Mengunjungi: Beranda\n",
            "Mengunjungi: Profil\n",
            "Mengunjungi: Setting\n",
            "Kembali ke: Setting\n",
            "Kembali ke: Profil\n",
            "Kembali ke: Beranda\n"
          ]
        }
      ]
    },
    {
      "cell_type": "code",
      "source": [
        "# Implementasi Stack dengan queue.LifoQueue - Sistem Pencadangan File (peek())\n",
        "from queue import LifoQueue\n",
        "\n",
        "class BackupSystem:\n",
        "  def __init__(self):\n",
        "    self.backups = LifoQueue()\n",
        "\n",
        "  def backup(self, version):\n",
        "    self.backups.put(version)\n",
        "\n",
        "  def latest_backup(self):\n",
        "    if not self.backups.empty():\n",
        "      return f\"Versi terbaru: {self.backups.queue[-1]}\"\n",
        "    return \"Tidak ada cadangan!\"\n",
        "\n",
        "# Contoh penggunaan\n",
        "backup_system = BackupSystem()\n",
        "backup_system.backup(\"Backup_1\")\n",
        "backup_system.backup(\"Backup_2\")\n",
        "backup_system.backup(\"Backup_3\")\n",
        "\n",
        "print(backup_system.latest_backup())"
      ],
      "metadata": {
        "colab": {
          "base_uri": "https://localhost:8080/"
        },
        "id": "bgFrVoQafx9k",
        "outputId": "6102c383-1067-4186-9621-999d67338729"
      },
      "execution_count": null,
      "outputs": [
        {
          "output_type": "stream",
          "name": "stdout",
          "text": [
            "Versi terbaru: Backup_3\n"
          ]
        }
      ]
    },
    {
      "cell_type": "code",
      "source": [
        "# Latihan 3\n",
        "from queue import LifoQueue\n",
        "\n",
        "class SistemPenyimpananDraftEmail:\n",
        "  def __init__(self, subjek_email):\n",
        "    self.draft = LifoQueue()\n",
        "\n",
        "  def simpan_draft(self, email):\n",
        "    self.draft.put(email)\n",
        "\n",
        "  def lihat_draft_terakhir(self):\n",
        "    if not self.draft.empty():\n",
        "      return f\"Email terbaru: {self.draft.queue[-1]}\"\n",
        "    return \"Tidak ada draft email tersedia.\"\n",
        "\n",
        "nama = \"Nawang\"\n",
        "NPM_dua_digit_terakhir = 2410506002\n",
        "subjek_email = nama[:2].upper() + str(NPM_dua_digit_terakhir % 100)\n",
        "\n",
        "sistem_email = SistemPenyimpananDraftEmail(subjek_email)\n",
        "sistem_email.simpan_draft(\"Draft 1\")\n",
        "sistem_email.simpan_draft(\"Draft 2\")\n",
        "sistem_email.simpan_draft(\"Draft 3\")\n",
        "\n",
        "print(sistem_email.lihat_draft_terakhir())"
      ],
      "metadata": {
        "id": "_elZCB7hjW6P",
        "colab": {
          "base_uri": "https://localhost:8080/"
        },
        "outputId": "fd92a315-4bd0-4c07-ac3e-87d664a6688d"
      },
      "execution_count": null,
      "outputs": [
        {
          "output_type": "stream",
          "name": "stdout",
          "text": [
            "Email terbaru: Draft 3\n"
          ]
        }
      ]
    },
    {
      "cell_type": "code",
      "source": [
        "# Implementasi Stack dengan OOP - Manajemen Antrian Pelanggan(isEmpty())\n",
        "class CustomerService:\n",
        "  def __init__(self):\n",
        "    self.tickets = []\n",
        "\n",
        "  def add_ticket(self, ticket):\n",
        "    self.tickets.append(ticket)\n",
        "\n",
        "  def process_ticket(self):\n",
        "    if not self.is_empty():\n",
        "      return f\"Memproses tiket: {self.tickets.pop()}\"\n",
        "    return \"Tidak ada tiket yang harus diproses.\"\n",
        "\n",
        "  def is_empty(self):\n",
        "    return len(self.tickets) == 0\n",
        "\n",
        "# Contoh Penggunaan\n",
        "service = CustomerService()\n",
        "service.add_ticket(\"Ticket 001\")\n",
        "service.add_ticket(\"Ticket 002\")\n",
        "\n",
        "print(service.process_ticket())\n",
        "print(service.is_empty())"
      ],
      "metadata": {
        "colab": {
          "base_uri": "https://localhost:8080/"
        },
        "id": "xuUSmbkpj0Sd",
        "outputId": "f5093d2e-f7ef-4ff3-884a-25d7fe29a0cf"
      },
      "execution_count": null,
      "outputs": [
        {
          "output_type": "stream",
          "name": "stdout",
          "text": [
            "Memproses tiket: Ticket 002\n",
            "False\n"
          ]
        }
      ]
    },
    {
      "cell_type": "code",
      "source": [
        "# Latihan 4\n",
        "class SistemAntreanTiketBioskop:\n",
        "  def __init__(self, nama_film):\n",
        "    self.nama_film = nama_film\n",
        "    self.antrean = []\n",
        "\n",
        "  def add_ticket(self, nama_pembeli):\n",
        "    self.antrean.append(nama_pembeli)\n",
        "    return(f\"Tiket film {self.nama_film} untuk {nama_pembeli} berhasil ditambahkan ke antrean.\")\n",
        "\n",
        "  def process_ticket(self):\n",
        "    if not self.is_empty():\n",
        "      pembeli = self.antrean.pop()\n",
        "      return f\"Memproses tiket film {self.nama_film} untuk {pembeli}.\"\n",
        "    else:\n",
        "      return f\"Tidak ada antrean tiket untuk film {self.nama_film}.\"\n",
        "\n",
        "  def is_empty(self):\n",
        "    return len(self.antrean) == 0\n",
        "\n",
        "nama_film = \"J02\"\n",
        "sistem_tiket = SistemAntreanTiketBioskop(nama_film)\n",
        "\n",
        "sistem_tiket.add_ticket(\"Nawang\")\n",
        "sistem_tiket.add_ticket(\"Riyana\")\n",
        "sistem_tiket.add_ticket(\"Putri\")\n",
        "\n",
        "print(sistem_tiket.process_ticket())\n",
        "print(sistem_tiket.process_ticket())\n",
        "print(sistem_tiket.process_ticket())\n",
        "\n",
        "print(sistem_tiket.process_ticket())\n",
        "print(sistem_tiket.is_empty())"
      ],
      "metadata": {
        "id": "O-N60MIdniVn",
        "colab": {
          "base_uri": "https://localhost:8080/"
        },
        "outputId": "eee470a9-91c7-41a9-e1a7-34b4306c0e7b"
      },
      "execution_count": null,
      "outputs": [
        {
          "output_type": "stream",
          "name": "stdout",
          "text": [
            "Memproses tiket film J02 untuk Putri.\n",
            "Memproses tiket film J02 untuk Riyana.\n",
            "Memproses tiket film J02 untuk Nawang.\n",
            "Tidak ada antrean tiket untuk film J02.\n",
            "True\n"
          ]
        }
      ]
    }
  ]
}