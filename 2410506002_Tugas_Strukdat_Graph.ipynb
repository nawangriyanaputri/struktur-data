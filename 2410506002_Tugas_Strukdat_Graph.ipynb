{
  "nbformat": 4,
  "nbformat_minor": 0,
  "metadata": {
    "colab": {
      "provenance": [],
      "authorship_tag": "ABX9TyNGEbsLNmLU35kRSjGxyGoG",
      "include_colab_link": true
    },
    "kernelspec": {
      "name": "python3",
      "display_name": "Python 3"
    },
    "language_info": {
      "name": "python"
    }
  },
  "cells": [
    {
      "cell_type": "markdown",
      "metadata": {
        "id": "view-in-github",
        "colab_type": "text"
      },
      "source": [
        "<a href=\"https://colab.research.google.com/github/nawangriyanaputri/struktur-data/blob/main/2410506002_Tugas_Strukdat_Graph.ipynb\" target=\"_parent\"><img src=\"https://colab.research.google.com/assets/colab-badge.svg\" alt=\"Open In Colab\"/></a>"
      ]
    },
    {
      "cell_type": "code",
      "execution_count": 1,
      "metadata": {
        "colab": {
          "base_uri": "https://localhost:8080/"
        },
        "id": "WrL7NHOD2deQ",
        "outputId": "f48462d1-660e-49f5-e314-2e6ad6b48c3d"
      },
      "outputs": [
        {
          "output_type": "stream",
          "name": "stdout",
          "text": [
            "Graf: \n",
            "A : ['B', 'C']\n",
            "B : ['A', 'C', 'D']\n",
            "C : ['A', 'B', 'D', 'E']\n",
            "D : ['B', 'C', 'E']\n",
            "E : ['C', 'D']\n",
            "\n",
            "BFS simpul awal A: \n",
            "A B C D E \n",
            "DFS simpul awal A: \n",
            "A B C D E \n",
            "List urutan kunjungan BFS dari A: \n",
            "['A', 'B', 'C', 'D', 'E']\n",
            "\n",
            "Jalur A ke E: \n",
            "['A', 'B', 'C', 'D', 'E']\n",
            "\n",
            "Apakah graf terhubung: \n",
            "True\n"
          ]
        }
      ],
      "source": [
        "# LATIHAN / TUGAS\n",
        "from collections import deque\n",
        "\n",
        "graph = {\n",
        "    'A' : ['B', 'C'],\n",
        "    'B' : ['A', 'C', 'D'],\n",
        "    'C' : ['A', 'B', 'D', 'E'],\n",
        "    'D' : ['B', 'C', 'E'],\n",
        "    'E' : ['C', 'D'],\n",
        "}\n",
        "\n",
        "def print_graph(graf):\n",
        "  for node in graf:\n",
        "    print(f\"{node} : {graph[node]}\")\n",
        "\n",
        "def bfs(graph, start):\n",
        "  visited = set()\n",
        "  queue = deque([start])\n",
        "  while queue:\n",
        "    node = queue.popleft()\n",
        "    if node not in visited:\n",
        "      print(node, end=\" \")\n",
        "      visited.add(node)\n",
        "      queue.extend(neighbor for neighbor in graph[node] if neighbor not in visited)\n",
        "\n",
        "def dfs(graph, start, visited=None):\n",
        "  if visited is None:\n",
        "    visited = set()\n",
        "  if start not in visited:\n",
        "    print(start, end=\" \")\n",
        "    visited.add(start)\n",
        "    for neighbor in graph[start]:\n",
        "      dfs(graph, neighbor, visited)\n",
        "\n",
        "def bfs_list(graph, start):\n",
        "  visited = set()\n",
        "  queue = deque([start])\n",
        "  order = []\n",
        "  while queue:\n",
        "    node = queue.popleft()\n",
        "    if node not in visited:\n",
        "      visited.add(node)\n",
        "      order.append(node)\n",
        "      queue.extend(neighbor for neighbor in graph[node] if neighbor not in visited)\n",
        "  return order\n",
        "\n",
        "def find_path(graph, start, end, path=[]):\n",
        "  path = path + [start]\n",
        "  if start == end:\n",
        "    return path\n",
        "  for node in graph[start]:\n",
        "    if node not in path:\n",
        "      newpath = find_path(graph, node, end, path)\n",
        "      if newpath:\n",
        "        return newpath\n",
        "  return None\n",
        "\n",
        "def is_connected(graph):\n",
        "  start = next(iter(graph))\n",
        "  visited = set()\n",
        "\n",
        "  def dfs(node):\n",
        "    visited.add(node)\n",
        "    for neighbor in graph[node]:\n",
        "      if neighbor not in visited:\n",
        "        dfs(neighbor)\n",
        "  dfs(start)\n",
        "  return len(visited) == len(graph)\n",
        "\n",
        "# Contoh penggunaan\n",
        "print(\"Graf: \")\n",
        "print_graph(graph)\n",
        "\n",
        "print(\"\\nBFS simpul awal A: \")\n",
        "bfs(graph, 'A')\n",
        "\n",
        "print(\"\\nDFS simpul awal A: \")\n",
        "dfs(graph, 'A')\n",
        "\n",
        "print(\"\\nList urutan kunjungan BFS dari A: \")\n",
        "print(bfs_list(graph, 'A'))\n",
        "\n",
        "print(\"\\nJalur A ke E: \")\n",
        "print(find_path(graph, 'A', 'E'))\n",
        "\n",
        "print(\"\\nApakah graf terhubung: \")\n",
        "print(is_connected(graph))"
      ]
    }
  ]
}