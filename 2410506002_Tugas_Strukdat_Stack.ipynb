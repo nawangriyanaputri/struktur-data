{
  "nbformat": 4,
  "nbformat_minor": 0,
  "metadata": {
    "colab": {
      "provenance": []
    },
    "kernelspec": {
      "name": "python3",
      "display_name": "Python 3"
    },
    "language_info": {
      "name": "python"
    }
  },
  "cells": [
    {
      "cell_type": "code",
      "execution_count": 1,
      "metadata": {
        "colab": {
          "base_uri": "https://localhost:8080/"
        },
        "id": "sNCe8h8RO-YG",
        "outputId": "f0f1dc3b-cf8e-4e05-86c4-ede47609018f"
      },
      "outputs": [
        {
          "output_type": "stream",
          "name": "stdout",
          "text": [
            "Pindahkan cakram1 dari Sumber ke Bantuan\n",
            "Pindahkan cakram2 dari Sumber ke Bantuan\n",
            "Pindahkan cakram3 dari Sumber ke Bantuan\n",
            "Anda gagal menyelesaikan Tower of Honai.\n",
            "Jumlah langkah yang digunakan: 3\n"
          ]
        }
      ],
      "source": [
        "# Tugas\n",
        "class Stack:\n",
        "  def __init__(self):\n",
        "    self.stack = []\n",
        "\n",
        "  def push(self, item):\n",
        "    self.stack.append(item)\n",
        "\n",
        "  def pop(self):\n",
        "    return self.stack.pop()\n",
        "\n",
        "  def is_empty(self):\n",
        "    return len(self, item) == 0\n",
        "\n",
        "  def peek(self):\n",
        "    return self.stack[-1]\n",
        "\n",
        "  def size(self):\n",
        "    return len(self.stack)\n",
        "\n",
        "def tower_of_honai(jumlah_cakram, sumber, bantuan, tujuan, batas_langkah):\n",
        "\n",
        "  def pindahkan_cakram(stack_sumber, stack_tujuan, nama, tujuan):\n",
        "    cakram = stack_sumber.pop()\n",
        "    stack_tujuan.push(cakram)\n",
        "    print(f\"Pindahkan cakram{cakram} dari {nama} ke {tujuan}\")\n",
        "\n",
        "  def pecahkan_tower_of_honai(n, stack_sumber, stack_tujuan, stack_bantuan, nama, tujuan, bantuan, langkah):\n",
        "    if n == 1:\n",
        "      pindahkan_cakram(stack_sumber, stack_tujuan, nama, tujuan)\n",
        "      return 1\n",
        "    else:\n",
        "      move = pecahkan_tower_of_honai(n - 1, stack_sumber, stack_tujuan, stack_bantuan, nama, tujuan, bantuan, langkah)\n",
        "      if move + langkah > batas_langkah:\n",
        "        return move + langkah\n",
        "      pindahkan_cakram(stack_sumber, stack_tujuan, nama, tujuan)\n",
        "      move += 1\n",
        "      if move + langkah > batas_langkah:\n",
        "        return move + langkah\n",
        "      move += pecahkan_tower_of_honai(n - 1, stack_sumber, stack_tujuan, stack_bantuan, nama, tujuan, bantuan, langkah)\n",
        "      return move\n",
        "\n",
        "  stack_sumber = Stack()\n",
        "  stack_bantuan = Stack()\n",
        "  stack_tujuan = Stack()\n",
        "\n",
        "  for i in range(jumlah_cakram, 0, -1):\n",
        "    stack_sumber.push(i)\n",
        "\n",
        "  langkah = pecahkan_tower_of_honai(jumlah_cakram, stack_sumber, stack_bantuan, stack_tujuan, \"Sumber\", \"Bantuan\", \"Tujuan\", 0)\n",
        "\n",
        "  if stack_tujuan.size() == jumlah_cakram:\n",
        "    print(\"Selamat, Anda berhasil menyelesaikan Tower of Honai!\")\n",
        "  else:\n",
        "    print(\"Anda gagal menyelesaikan Tower of Honai.\")\n",
        "  print(f\"Jumlah langkah yang digunakan: {langkah}\")\n",
        "\n",
        "# Contoh Penggunaan\n",
        "jumlah_cakram = 3\n",
        "langkah = 2\n",
        "\n",
        "tower_of_honai(jumlah_cakram, Stack(), Stack(), Stack(), langkah)"
      ]
    },
    {
      "cell_type": "code",
      "source": [],
      "metadata": {
        "id": "fATCu4zfZMaQ"
      },
      "execution_count": null,
      "outputs": []
    }
  ]
}