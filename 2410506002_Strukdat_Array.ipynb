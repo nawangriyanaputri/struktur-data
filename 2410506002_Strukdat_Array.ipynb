{
  "nbformat": 4,
  "nbformat_minor": 0,
  "metadata": {
    "colab": {
      "provenance": []
    },
    "kernelspec": {
      "name": "python3",
      "display_name": "Python 3"
    },
    "language_info": {
      "name": "python"
    }
  },
  "cells": [
    {
      "cell_type": "code",
      "source": [
        "# Deklarasi array kosong\n",
        "data = []\n",
        "\n",
        "# Inisialisasi array dengan elemen\n",
        "angka = [10, 20, 30, 40, 50]\n",
        "\n",
        "# Menampilkan isi array\n",
        "print(\"Isi array angka:\", angka)"
      ],
      "metadata": {
        "colab": {
          "base_uri": "https://localhost:8080/"
        },
        "id": "Wm9gzvv8NVBy",
        "outputId": "e93409d7-0f4a-4db8-f5bd-0da935b6aee9"
      },
      "execution_count": null,
      "outputs": [
        {
          "output_type": "stream",
          "name": "stdout",
          "text": [
            "Isi array angka: [10, 20, 30, 40, 50]\n"
          ]
        }
      ]
    },
    {
      "cell_type": "code",
      "source": [
        "# Latihan 1\n",
        "data = []\n",
        "NPM = [2410506002, 2410506003, 2410506004, 2410506005, 2410506006]\n",
        "print(\"Data NPM:\", NPM)"
      ],
      "metadata": {
        "colab": {
          "base_uri": "https://localhost:8080/"
        },
        "id": "TwunzU8-Nzjr",
        "outputId": "f8056c9e-b240-4fab-9b00-6f3161705194"
      },
      "execution_count": null,
      "outputs": [
        {
          "output_type": "stream",
          "name": "stdout",
          "text": [
            "Data NPM: [2410506002, 2410506003, 2410506004, 2410506005, 2410506006]\n"
          ]
        }
      ]
    },
    {
      "cell_type": "code",
      "source": [
        "# Mengakses elemen Array\n",
        "print(\"Elemen pertama:\", angka[0]) # Elemen pertama\n",
        "print(\"Elemen terakhir:\", angka[-1]) # Elemen terakhir"
      ],
      "metadata": {
        "colab": {
          "base_uri": "https://localhost:8080/"
        },
        "id": "-YP8q9YtQ_OU",
        "outputId": "b810015e-3846-494c-f29c-d4bed0264b24"
      },
      "execution_count": null,
      "outputs": [
        {
          "output_type": "stream",
          "name": "stdout",
          "text": [
            "Elemen pertama: 10\n",
            "Elemen terakhir: 50\n"
          ]
        }
      ]
    },
    {
      "cell_type": "code",
      "source": [
        "# Menambah elemen menggunakan append()\n",
        "angka.append(60)\n",
        "print(\"Array setelah penambahan elemen:\", angka)\n",
        "\n",
        "# Menambah elemen menggunakan insert()\n",
        "angka.insert(2, 25) # Menyisipkan 25 di indeks ke-2\n",
        "print(\"Array setelah penambahan elemen dengan insert:\", angka)"
      ],
      "metadata": {
        "colab": {
          "base_uri": "https://localhost:8080/"
        },
        "id": "ENQ4SQ_0Ra9M",
        "outputId": "1f05af6c-c1c2-4530-c7bd-2981102b7dc1"
      },
      "execution_count": null,
      "outputs": [
        {
          "output_type": "stream",
          "name": "stdout",
          "text": [
            "Array setelah penambahan elemen: [10, 20, 30, 40, 50, 60]\n",
            "Array setelah penambahan elemen dengan insert: [10, 20, 25, 30, 40, 50, 60]\n"
          ]
        }
      ]
    },
    {
      "cell_type": "code",
      "source": [
        "# Menghapus elemen menggunakan remove()\n",
        "angka.remove(25) # Menghapus nilai 25\n",
        "print(\"Array setelah menghapus elemen 25:\", angka)\n",
        "\n",
        "# Menghapus elemen menggunakan pop()\n",
        "angka.pop(2) # Menghapus elemen pada indeks ke-2\n",
        "print(\"Array setelah menghapus elemen pada indeks 2:\", angka)"
      ],
      "metadata": {
        "colab": {
          "base_uri": "https://localhost:8080/"
        },
        "id": "p4j-DR-WSMy8",
        "outputId": "841a8f7c-5212-4a6a-e6ab-4398c7336f08"
      },
      "execution_count": null,
      "outputs": [
        {
          "output_type": "stream",
          "name": "stdout",
          "text": [
            "Array setelah menghapus elemen 25: [10, 20, 30, 40, 50, 60]\n",
            "Array setelah menghapus elemen pada indeks 2: [10, 20, 40, 50, 60]\n"
          ]
        }
      ]
    },
    {
      "cell_type": "code",
      "source": [
        "# Mengubah elemen pada indeks 0\n",
        "angka[0] = 100\n",
        "print(\"Array setelah mengubah elemen pertama:\", angka)"
      ],
      "metadata": {
        "colab": {
          "base_uri": "https://localhost:8080/"
        },
        "id": "cbsq1PUpTChL",
        "outputId": "b9a00a64-b40e-4c50-d870-368f8c95e608"
      },
      "execution_count": null,
      "outputs": [
        {
          "output_type": "stream",
          "name": "stdout",
          "text": [
            "Array setelah mengubah elemen pertama: [100, 20, 40, 50, 60]\n"
          ]
        }
      ]
    },
    {
      "cell_type": "code",
      "source": [
        "# Latihan 2\n",
        "NPM[0] = 241050600213\n",
        "print(\"NPM setelah menambah nilai:\", NPM)\n",
        "\n",
        "angka.pop(0)\n",
        "print(\"NPM setelah menghapus elemen pada indeks 0:\", NPM)"
      ],
      "metadata": {
        "colab": {
          "base_uri": "https://localhost:8080/"
        },
        "id": "dwX5ZCPWTUJq",
        "outputId": "c2ed92be-4738-4d6a-f984-9ffdd876bca1"
      },
      "execution_count": null,
      "outputs": [
        {
          "output_type": "stream",
          "name": "stdout",
          "text": [
            "NPM setelah menambah nilai: [241050600213, 2410506003, 2410506004, 2410506005, 2410506006]\n",
            "NPM setelah menghapus elemen pada indeks 0: [241050600213, 2410506003, 2410506004, 2410506005, 2410506006]\n"
          ]
        }
      ]
    },
    {
      "cell_type": "code",
      "source": [
        "angka = [10, 20, 30, 40]\n",
        "\n",
        "for nilai in angka:\n",
        "  print(\"Nilai:\", nilai)"
      ],
      "metadata": {
        "colab": {
          "base_uri": "https://localhost:8080/"
        },
        "id": "MsnvtIAAV3x1",
        "outputId": "2fecd794-f342-4d5e-f26b-09e1993613f5"
      },
      "execution_count": null,
      "outputs": [
        {
          "output_type": "stream",
          "name": "stdout",
          "text": [
            "Nilai: 10\n",
            "Nilai: 20\n",
            "Nilai: 30\n",
            "Nilai: 40\n"
          ]
        }
      ]
    },
    {
      "cell_type": "code",
      "source": [
        "# Latihan 3\n",
        "fakultas = [\"Fakultas Teknik\", \"Fakultas Ekonomi\", \"Fakultas Keguruan dan Ilmu Pendidikan\", \"Fakultas Ilmu Sosial dan Ilmu Politik\", \"Fakultas Pertanian\"]\n",
        "for daftar in fakultas:\n",
        "  print(\"Fakultas:\", daftar)"
      ],
      "metadata": {
        "colab": {
          "base_uri": "https://localhost:8080/"
        },
        "id": "qHvZwBasWPnN",
        "outputId": "69d5b71c-7b0f-48a3-ad6b-684e15fe2ced"
      },
      "execution_count": null,
      "outputs": [
        {
          "output_type": "stream",
          "name": "stdout",
          "text": [
            "Fakultas: Fakultas Teknik\n",
            "Fakultas: Fakultas Ekonomi\n",
            "Fakultas: Fakultas Keguruan dan Ilmu Pendidikan\n",
            "Fakultas: Fakultas Ilmu Sosial dan Ilmu Politik\n",
            "Fakultas: Fakultas Pertanian\n"
          ]
        }
      ]
    },
    {
      "cell_type": "code",
      "source": [
        "angka = [10, 20, 30, 40]\n",
        "\n",
        "print(\"Jumlah total:\", sum(angka))\n",
        "print(\"Nilai maksimum:\", max(angka))\n",
        "print(\"Nilai minimum:\", min(angka))"
      ],
      "metadata": {
        "colab": {
          "base_uri": "https://localhost:8080/"
        },
        "id": "ikkjeNHPW9RF",
        "outputId": "c59ad606-abbd-4e35-8c89-4a1b9d4b09a1"
      },
      "execution_count": null,
      "outputs": [
        {
          "output_type": "stream",
          "name": "stdout",
          "text": [
            "Jumlah total: 100\n",
            "Nilai maksimum: 40\n",
            "Nilai minimum: 10\n"
          ]
        }
      ]
    },
    {
      "cell_type": "code",
      "source": [
        "# Latihan 4\n",
        "harga = [30000, 40000, 50000, 60000]\n",
        "print(\"Total harga:\", sum(harga))\n",
        "print(\"Harga maksimum:\", max(harga))\n",
        "print(\"Harga minimum:\", min(harga))"
      ],
      "metadata": {
        "colab": {
          "base_uri": "https://localhost:8080/"
        },
        "id": "48iRtBocZfCN",
        "outputId": "c35e617a-0ada-4531-94a9-843cee05923d"
      },
      "execution_count": null,
      "outputs": [
        {
          "output_type": "stream",
          "name": "stdout",
          "text": [
            "Total harga: 180000\n",
            "Harga maksimum: 60000\n",
            "Harga minimum: 30000\n"
          ]
        }
      ]
    },
    {
      "cell_type": "code",
      "source": [
        "# Deklarasi array 2D\n",
        "matriks = [\n",
        "    [1, 2, 3],\n",
        "    [4, 5, 6],\n",
        "    [7, 8, 9]\n",
        "]\n",
        "\n",
        "# Menampilkan isi array 2D\n",
        "print(\"Isi aray 2D:\")\n",
        "for baris in matriks:\n",
        "  print(baris)"
      ],
      "metadata": {
        "colab": {
          "base_uri": "https://localhost:8080/"
        },
        "id": "yFfgPX1waVN-",
        "outputId": "99a2d474-7891-42e8-b0e0-61c6c15b515a"
      },
      "execution_count": null,
      "outputs": [
        {
          "output_type": "stream",
          "name": "stdout",
          "text": [
            "Isi aray 2D:\n",
            "[1, 2, 3]\n",
            "[4, 5, 6]\n",
            "[7, 8, 9]\n"
          ]
        }
      ]
    },
    {
      "cell_type": "code",
      "source": [
        "# Latihan 5\n",
        "#Deklarasi array 2D\n",
        "array_2d = [\n",
        "    [1, 2, 3, 4],\n",
        "    [5, 6, 7, 8],\n",
        "    [9, 3, 5, 7]\n",
        "]\n",
        "#Menampilkan isi array 2D\n",
        "print(\"Isi array_2d:\")\n",
        "for matriks in array_2d:\n",
        "  print(matriks)"
      ],
      "metadata": {
        "colab": {
          "base_uri": "https://localhost:8080/"
        },
        "id": "uU1RJHoJbF0f",
        "outputId": "c7394c94-5cff-4d00-c04f-7e69bb166a5e"
      },
      "execution_count": null,
      "outputs": [
        {
          "output_type": "stream",
          "name": "stdout",
          "text": [
            "Isi array_2d:\n",
            "[1, 2, 3, 4]\n",
            "[5, 6, 7, 8]\n",
            "[9, 3, 5, 7]\n"
          ]
        }
      ]
    },
    {
      "cell_type": "code",
      "source": [
        "# Mengakses elemen pada baris ke-1, kolom ke-2 (indeks [0] [1])\n",
        "print(\"Elemen pada baris 1, kolom 2:\", matriks[0][1])\n",
        "\n",
        "# Mengakses elemen terakhir (baris ke-3, kolom ke-3)\n",
        "print(\"Elemen terakhir:\", matriks [-1] [-1])"
      ],
      "metadata": {
        "colab": {
          "base_uri": "https://localhost:8080/"
        },
        "id": "jqVSwJtobwHW",
        "outputId": "a9b850ec-94f3-4bd3-ee30-e4b38346ac25"
      },
      "execution_count": null,
      "outputs": [
        {
          "output_type": "stream",
          "name": "stdout",
          "text": [
            "Elemen pada baris 1, kolom 2: 2\n",
            "Elemen terakhir: 9\n"
          ]
        }
      ]
    },
    {
      "cell_type": "code",
      "source": [
        "# Latihan 6\n",
        "print(\"Elemen pada baris 2, kolom 4:\", array_2d[1][3])"
      ],
      "metadata": {
        "colab": {
          "base_uri": "https://localhost:8080/"
        },
        "id": "sY0JzUgdcTWe",
        "outputId": "a65decb9-4414-4e8c-e865-5298bbdc1508"
      },
      "execution_count": null,
      "outputs": [
        {
          "output_type": "stream",
          "name": "stdout",
          "text": [
            "Elemen pada baris 2, kolom 4: 8\n"
          ]
        }
      ]
    },
    {
      "cell_type": "code",
      "source": [
        "# Menambahkan baris baru\n",
        "matriks.append([10, 11, 12])\n",
        "print(\"Array setelah baris baru:\", matriks)\n",
        "\n",
        "# Menambahkan elemen pada baris ke-2\n",
        "matriks[1].append(99)\n",
        "print(\"Array setelah menambahkan elemen di baris ke-2:\", matriks)"
      ],
      "metadata": {
        "colab": {
          "base_uri": "https://localhost:8080/"
        },
        "id": "QK9CbQ23dGC1",
        "outputId": "62cd7da8-150b-4406-e173-e6bfe5ad1029"
      },
      "execution_count": null,
      "outputs": [
        {
          "output_type": "stream",
          "name": "stdout",
          "text": [
            "Array setelah baris baru: [[1, 2, 3], [4, 5, 6], [7, 8, 9], [10, 11, 12]]\n",
            "Array setelah menambahkan elemen di baris ke-2: [[1, 2, 3], [4, 5, 6, 99], [7, 8, 9], [10, 11, 12]]\n"
          ]
        }
      ]
    },
    {
      "cell_type": "code",
      "source": [
        "# Latihan 7\n",
        "array_2d.append([9, 1, 20, 7])\n",
        "for matriks in array_2d:\n",
        "  print(matriks)"
      ],
      "metadata": {
        "colab": {
          "base_uri": "https://localhost:8080/"
        },
        "id": "fr5KEYKzeIA-",
        "outputId": "98d29bab-3400-4db3-df9c-66baaeb1862e"
      },
      "execution_count": null,
      "outputs": [
        {
          "output_type": "stream",
          "name": "stdout",
          "text": [
            "[1, 2, 3, 4]\n",
            "[5, 6, 7, 8]\n",
            "[9, 3, 5, 7]\n",
            "[9, 1, 20, 7]\n"
          ]
        }
      ]
    },
    {
      "cell_type": "code",
      "source": [
        "# Menghapus elemen tertentu dari baris ke-1\n",
        "matriks[0].remove(2)\n",
        "print(\"Array setelah menghapus elemen 2 dari baris pertama:\", matriks)\n",
        "\n",
        "# Menghapus elemen pada indeks tertentu baris ke-2\n",
        "matriks[1].pop(1)\n",
        "print(\"Array setelah menghapus elemen indeks ke-1 dari baris ke-2:\", matriks)"
      ],
      "metadata": {
        "colab": {
          "base_uri": "https://localhost:8080/"
        },
        "id": "wuVZmKxWe3h9",
        "outputId": "207047fa-e64f-40bc-a9ee-dc6985d67776"
      },
      "execution_count": null,
      "outputs": [
        {
          "output_type": "stream",
          "name": "stdout",
          "text": [
            "Array setelah menghapus elemen 2 dari baris pertama: [[1, 3], [4, 5, 6, 99], [7, 8, 9], [10, 11, 12]]\n",
            "Array setelah menghapus elemen indeks ke-1 dari baris ke-2: [[1, 3], [4, 6, 99], [7, 8, 9], [10, 11, 12]]\n"
          ]
        }
      ]
    },
    {
      "cell_type": "code",
      "source": [
        "# Latihan 8\n",
        "array_2d[3].pop(2)\n",
        "print(\"Array setelah menghapus elemen ke-3 dari baris terakhir:\", array_2d)"
      ],
      "metadata": {
        "colab": {
          "base_uri": "https://localhost:8080/"
        },
        "id": "48NX0Dr6fpLm",
        "outputId": "7075435b-bf73-4777-80f8-174cc659e8c7"
      },
      "execution_count": null,
      "outputs": [
        {
          "output_type": "stream",
          "name": "stdout",
          "text": [
            "Array setelah menghapus elemen ke-3 dari baris terakhir: [[1, 2, 3, 4], [5, 6, 7, 8], [9, 3, 5, 7], [9, 1, 7]]\n"
          ]
        }
      ]
    },
    {
      "cell_type": "code",
      "source": [
        "# Mengubah elemen pada baris ke-3, kolom ke-2\n",
        "matriks[2][1] = 88\n",
        "print(\"Array setelah mengubah elemen baris ke-3, kolom ke-2:\", matriks)"
      ],
      "metadata": {
        "colab": {
          "base_uri": "https://localhost:8080/"
        },
        "id": "SXKcUVllgeDe",
        "outputId": "0d7a2cc4-354c-43ae-8a77-82e36a532668"
      },
      "execution_count": null,
      "outputs": [
        {
          "output_type": "stream",
          "name": "stdout",
          "text": [
            "Array setelah mengubah elemen baris ke-3, kolom ke-2: [[1, 3], [4, 6, 99], [7, 88, 9], [10, 11, 12]]\n"
          ]
        }
      ]
    },
    {
      "cell_type": "code",
      "source": [
        "# Latihan 9\n",
        "array_2d[-1][-1] = 14\n",
        "print(\"Array setelah mengubah elemen baris ke-4, kolom ke-4:\", array_2d)"
      ],
      "metadata": {
        "colab": {
          "base_uri": "https://localhost:8080/"
        },
        "id": "_OQQiu1thfzu",
        "outputId": "2c85eea1-7ebc-43d1-a035-cde6aab14aac"
      },
      "execution_count": null,
      "outputs": [
        {
          "output_type": "stream",
          "name": "stdout",
          "text": [
            "Array setelah mengubah elemen baris ke-4, kolom ke-4: [[1, 2, 3, 4], [5, 6, 7, 8], [9, 3, 5, 7], [9, 1, 14]]\n"
          ]
        }
      ]
    },
    {
      "cell_type": "code",
      "source": [
        "belanja = [\"Beras\", \"Gula\", \"Minyak\"]\n",
        "belanja.append(\"Teh\")\n",
        "belanja.remove(\"Gula\")\n",
        "print(\"Daftar belanja terbaru:\", belanja)"
      ],
      "metadata": {
        "colab": {
          "base_uri": "https://localhost:8080/"
        },
        "id": "BdIx5Jxd48k9",
        "outputId": "edaed720-39bc-4409-e628-a416ca0fa7fd"
      },
      "execution_count": null,
      "outputs": [
        {
          "output_type": "stream",
          "name": "stdout",
          "text": [
            "Daftar belanja terbaru: ['Beras', 'Minyak', 'Teh']\n"
          ]
        }
      ]
    },
    {
      "cell_type": "code",
      "source": [
        "# Latihan 10\n",
        "daftar_belanja = [\"Beras\", \"Tepung\", \"Telur\", \"Garam\"]\n",
        "daftar_belanja.remove(\"Beras\")\n",
        "daftar_belanja.append(\"Minyak\")\n",
        "daftar_belanja.pop(1)\n",
        "\n",
        "print(\"Daftar Belanja:\", daftar_belanja)"
      ],
      "metadata": {
        "colab": {
          "base_uri": "https://localhost:8080/"
        },
        "id": "V6-IUfFw5iPW",
        "outputId": "ea935daf-bdf8-4c48-8850-11a3a7bb2736"
      },
      "execution_count": null,
      "outputs": [
        {
          "output_type": "stream",
          "name": "stdout",
          "text": [
            "Daftar Belanja: ['Tepung', 'Garam', 'Minyak']\n"
          ]
        }
      ]
    }
  ]
}